{
 "cells": [
  {
   "attachments": {},
   "cell_type": "markdown",
   "id": "overall-spider",
   "metadata": {},
   "source": [
    "# Data Mining - Handin 1 - Clustering \n",
    "Welcome to the handin on clustering algorithms and outlier detection. \n",
    "This handin corresponds to the topics in Week 5--9 in the course.\n",
    "\n",
    "The handin is \n",
    "* done in the chosen handin groups\n",
    "* worth 10% of the final grade\n",
    "\n",
    "For the handin, you will prepare a report in PDF format, by exporting the Jupyter notebook. \n",
    "Please submit\n",
    "1. The jupyter notebook file with your answers\n",
    "2. The PDF obtained by exporting the jupyter notebook\n",
    "\n",
    "Submit both files on Brightspace no later than **March 10th kl. 23:59**.\n",
    "\n",
    "**The grading system**: Tasks are assigned a number of points based on the difficulty and time to solve it. The sum of\n",
    "the number of points is 100. For the maximum grade you need to get at least _80 points_. The minimum grade (02 in the Danish scale)\n",
    "requires **at least** 30 points, with at least 8 points on of the first three Parts (Part 1,2,3) and 6 points in the last part (Part 4).\n",
    "\n",
    "**The exercise types**: There are three different types of exercises\n",
    "1. <span style='color: green'>**\\[Compute by hand\\]**</span> means that you should provide NO code, but show the main steps to reach the result (not all). \n",
    "2. <span style='color: green'>**\\[Motivate\\]**</span> means to provide a short answer of 1-2 lines indicating the main reasoning, e.g., the PageRank of a complete graph is 1/n in all nodes as all nodes are symmetric and are connected one another.\n",
    "3. <span style='color: green'>**\\[Describe\\]**</span> means to provide a potentially longer answer of 1-5 lines indicating the analysis of the data and the results. \n",
    "4. <span style='color: green'>**\\[Prove\\]**</span> means to provide a formal argument and NO code. \n",
    "5. <span style='color: green'>**\\[Implement\\]**</span> means to provide an implementation. Unless otherwise specified, you are allowed to use helper functions (e.g., ```np.mean```, ```itertools.combinations```, and so on). However, if the task is to implement an algorithm, by no means a call to a library that implements the same algorithm will be deemed as sufficient! \n",
    "\n",
    "<font color='red'>**!!! IMPORTANT: YOU ARE NOT ALLOWED TO USE LIBRARY FUNCTIONS (SCIPY, NUMPY etc.) UNLESS EXPLICITY MENTIONED !!!**\n",
    "</font>\n",
    "\n",
    "Good luck!"
   ]
  },
  {
   "cell_type": "code",
   "execution_count": 1,
   "id": "decimal-cause",
   "metadata": {},
   "outputs": [],
   "source": [
    "import sys\n",
    "#!conda install --yes --prefix {sys.prefix} seaborn"
   ]
  },
  {
   "cell_type": "code",
   "execution_count": 2,
   "id": "loaded-nicholas",
   "metadata": {},
   "outputs": [],
   "source": [
    "## DO NOT TOUCH\n",
    "import numpy as np\n",
    "import pandas as pd\n",
    "import warnings\n",
    "from sklearn.decomposition import PCA\n",
    "from sklearn.manifold import TSNE\n",
    "from sklearn.cluster import KMeans, DBSCAN, OPTICS\n",
    "from sklearn.preprocessing import StandardScaler, KBinsDiscretizer\n",
    "import time\n",
    "import seaborn as sns\n",
    "\n",
    "RANDOM_SEED = 132414\n",
    "## DO NOT TOUCH\n",
    "warnings.filterwarnings('ignore')\n",
    "%matplotlib inline\n",
    "import matplotlib.pyplot as plt\n",
    "\n",
    "wq = pd.read_csv(\"./data/winequality-red.csv\", sep=';')\n",
    "toy = wq[wq['quality'].isin([4, 8])].sample(n=20, random_state=RANDOM_SEED)"
   ]
  },
  {
   "cell_type": "markdown",
   "id": "reduced-regression",
   "metadata": {},
   "source": [
    "# Intro Excercises\n",
    "\n",
    "## Task 1.1 K-Means and DBScan\n",
    "\n",
    "### Task 1.1.1 (5 points)\n",
    "<span style='color: green'>**\\[Compute by hand\\]**</span> the cluster assignments _for the dataset below_ using k-means and $k = 2$, with initial centroids being (0, 0) and (1,1)\n",
    "\n",
    "<font color='red'>To evaluate (i.e., only to control the correctness and not to solve the exercise) your results you can use **sklearn.cluster.KMeans**.</font>\n"
   ]
  },
  {
   "cell_type": "code",
   "execution_count": 3,
   "id": "annoying-mapping",
   "metadata": {},
   "outputs": [
    {
     "data": {
      "image/png": "[encoded data removed]",
      "text/plain": [
       "<Figure size 640x480 with 1 Axes>"
      ]
     },
     "metadata": {},
     "output_type": "display_data"
    }
   ],
   "source": [
    "color_map = {4:'Blue', 8:'Red'}\n",
    "X_kmeans = toy[[\"sulphates\", \"alcohol\"]]\n",
    "\n",
    "scaler = StandardScaler().fit(X_kmeans)\n",
    "X_scaled = scaler.transform(X_kmeans)\n",
    "\n",
    "plt.scatter(X_scaled[:, 0], X_scaled[:, 1], alpha=0.8, c=toy['quality'].map(color_map))\n",
    "plt.axis('equal');"
   ]
  },
  {
   "cell_type": "code",
   "execution_count": 51,
   "id": "374bec01",
   "metadata": {},
   "outputs": [
    {
     "name": "stdout",
     "output_type": "stream",
     "text": [
      "[[ 0.09502465 -0.78508876]\n",
      " [-0.11614124  0.95955293]]\n"
     ]
    },
    {
     "data": {
      "image/png": "[encoded data removed]",
      "text/plain": [
       "<Figure size 640x480 with 1 Axes>"
      ]
     },
     "metadata": {},
     "output_type": "display_data"
    }
   ],
   "source": [
    "kmeans = KMeans(2, init=[[-1,-1],[0,2.5]]).fit(X_scaled)\n",
    "label = kmeans.labels_\n",
    "u_labels = np.unique(label)\n",
    " \n",
    "centroids = kmeans.cluster_centers_\n",
    "print(centroids)\n",
    "#plotting the results:\n",
    " \n",
    "for i in u_labels:\n",
    "    plt.scatter(X_scaled[label == i , 0] , X_scaled[label == i , 1] , label = i)\n",
    "plt.legend()\n",
    "plt.show()"
   ]
  },
  {
   "attachments": {},
   "cell_type": "markdown",
   "id": "collective-matter",
   "metadata": {},
   "source": [
    "*******************\n",
    "**YOUR ANSWER HERE**\n",
    "******************\n",
    "Firstly, we computer the centroid $\\mu_i$ for cluster $C_i$. We do this just below. <br>\n",
    "$\\mu_0 = \\frac{1}{|C_0|} \\Sigma_{x \\in C_0} x = (0,0)$ <br>\n",
    "$\\mu_1 = \\frac{1}{|C_1|} \\Sigma_{x \\in C_1} x = (1,1)$ <br>\n",
    "We now assign the points to the cluster with the closest centroid. Thereby, we compute the Euclidean distance and assign the points to clusters. Formally, assign a point $x \\in D$ to the cluster $j$ such that $j = argmin_i ||x-\\mu_i||$. We now compute the distance to each cluster for each point and assign the point to the cluster with the smallest distance. <br>\n",
    "$\\sqrt{||x_0-\\mu_0||^2} = \\sqrt{(-0.75082858-0)^2 + (-0.54497977-0)^2} = \\sqrt{0.86074650625} = 0.92776425$ <br>\n",
    "$\\sqrt{||x_0-\\mu_1||^2} = \\sqrt{(-0.75082858-1)^2 + (-0.54497977-1)^2} = \\sqrt{5.45236320625} = 2.33502959$ <br>\n",
    "We add $x_0$ to the $C_0$ cluster as it has the smallest distance. <br>\n",
    "$\\sqrt{||x_1-\\mu_0||^2} = \\sqrt{(-0.456386-0)^2 + (0.19901992-0)^2} = \\sqrt{0.24789710955} = 0.4978926687$ <br>\n",
    "$\\sqrt{||x_1-\\mu_1||^2} = \\sqrt{(-0.456386-1)^2 + (0.19901992-1)^2 }= \\sqrt{2.76262926955} = 1.66211590136$<br>\n",
    "We add $x_1$ to the $C_0$ cluster as it has the smallest distance. <br>\n",
    "$\\sqrt{||x_2-\\mu_0||^2} = \\sqrt{(-0.01472213-0)^2 + (-0.69377971-0)^2 }= \\sqrt{0.48154702711} = 0.69393589553$ <br>\n",
    "$\\sqrt{||x_2-\\mu_1||^2} = \\sqrt{(-0.01472213-1)^2 + (-0.69377971-1)^2 }= \\sqrt{3.89855070712} = 1.97447479273$ <br>\n",
    "We add $x_2$ to the $C_0$ cluster as it has the smallest distance. <br>\n",
    "$\\sqrt{||x_3-\\mu_0||^2} = \\sqrt{(-0.456386-0)^2 + (-0.84257965-0)^2 }= \\sqrt{0.91822864759}=0.95824247849$ <br>\n",
    "$\\sqrt{||x_3-\\mu_1||^2} = \\sqrt{(-0.456386-1)^2 + (-0.84257965-1)^2 }= \\sqrt{5.51615994759} = 2.34865066529$ <br>\n",
    "We add $x_3$ to the $C_0$ cluster as it has the smallest distance. <br>\n",
    "$\\sqrt{||x_4-\\mu_0||^2} = \\sqrt{(0.27972045-0)^2 + (1.38941942-0)^2 }= \\sqrt{2.00872985482} = 1.41729667142$ <br>\n",
    "$\\sqrt{||x_4-\\mu_1||^2} = \\sqrt{(0.27972045-1)^2 + (1.38941942-1)^2 }= \\sqrt{0.67045011482} = 0.81881018241$ <br>\n",
    "We add $x_4$ to the $C_1$ cluster as it has the smallest distance. <br>\n",
    "$\\sqrt{||x_5-\\mu_0||^2} = \\sqrt{(-0.83916135-0)^2 + (-0.84257965-0)^2 }= \\sqrt{1.41413223793} = 1.18917292179$ <br>\n",
    "$\\sqrt{||x_5-\\mu_1||^2} = \\sqrt{(-0.83916135-1)^2 + (-0.84257965-1)^2 }= \\sqrt{6.77761423793} = 2.60338514975$ <br>\n",
    "We add $x_5$ to the $C_0$ cluster as it has the smallest distance. <br>\n",
    "$\\sqrt{||x_6-\\mu_0||^2} = \\sqrt{(0.27972045-0)^2 + (2.43101898-0)^2} = \\sqrt{5.98809681127} = 2.4470588083$ <br>\n",
    "$\\sqrt{||x_6-\\mu_1||^2} = \\sqrt{(0.27972045-1)^2 + (2.43101898-1)^2} = \\sqrt{2.56661795127} = 1.60206677491$ <br>\n",
    "We add $x_6$ to the $C_1$ cluster as it has the smallest distance. <br>\n",
    "$\\sqrt{||x_7-\\mu_0||^2} = \\sqrt{(-0.60360729-0)^2 + (0.27341989-0)^2} = \\sqrt{0.43910019678} = 0.66264635876$ <br>\n",
    "$\\sqrt{||x_7-\\mu_1||^2} = \\sqrt{(-0.60360729-1)^2 + (0.27341989-1)^2} = \\sqrt{3.09947499679} = 1.76053258896$ <br>\n",
    "We add $x_7$ to the $C_0$ cluster as it has the smallest distance. <br>\n",
    "$\\sqrt{||x_8-\\mu_0||^2} = \\sqrt{(-0.1030549-0)^2 + (0.7198197-0)^2} = \\sqrt{0.52876071292} = 0.72715934493$ <br>\n",
    "$\\sqrt{||x_8-\\mu_1||^2} = \\sqrt{(-0.1030549-1)^2 + (0.7198197-1)^2} = \\sqrt{1.29523111292} = 1.13808220833$ <br>\n",
    "We add $x_8$ to the $C_0$ cluster as it has the smallest distance. <br>\n",
    "$\\sqrt{||x_9-\\mu_0||^2} = \\sqrt{(0.27972045-0)^2 + (-0.69377971-0)^2 }= \\sqrt{0.55957381615} = 0.74804666709$ <br>\n",
    "$\\sqrt{||x_9-\\mu_1||^2} = \\sqrt{(0.27972045-1)^2 + (-0.69377971-1)^2 }= \\sqrt{3.38769233616} = 1.84056848179$ <br>\n",
    "We add $x_9$ to the $C_0$ cluster as it has the smallest distance. <br>\n",
    "$\\sqrt{||x_{10}-\\mu_0||^2 }=\\sqrt{(-0.72138432-0)^2 + (-0.17297993-0)^2} =\\sqrt{0.55031739332} = 0.74183380437$ <br>\n",
    "$\\sqrt{||x_{10}-\\mu_1||^2 }=\\sqrt{(-0.72138432-1)^2 + (-0.17297993-1)^2} =\\sqrt{4.33904589332} = 2.08303766008$ <br>\n",
    "We add $x_{10}$ to the $C_0$ cluster as it has the smallest distance. <br>\n",
    "$\\sqrt{||x_{11}-\\mu_0||^2 }=\\sqrt{(3.75414288-0)^2 + (-0.99137958-0)^2 }=\\sqrt{15.0764222351} = 3.8828368798$ <br>\n",
    "$\\sqrt{||x_{11}-\\mu_1||^2 }=\\sqrt{(3.75414288-1)^2 + (-0.99137958-1)^2 }=\\sqrt{11.5508956351} = 3.39866085909$ <br>\n",
    "We add $x_{11}$ to the $C_1$ cluster as it has the smallest distance. <br>\n",
    "$\\sqrt{||x_{12}-\\mu_0||^2 }=\\sqrt{(0.39749748-0)^2 + (-0.61937974-0)^2 }=\\sqrt{0.54163550892} = 0.73595890436$ <br>\n",
    "$\\sqrt{||x_{12}-\\mu_1||^2 }=\\sqrt{(0.39749748-1)^2 + (-0.61937974-1)^2 }=\\sqrt{2.98540002893} = 1.72783101863$ <br>\n",
    "We add $x_{12}$ to the $C_0$ cluster as it has the smallest distance. <br>\n",
    "$\\sqrt{||x_{13}-\\mu_0||^2 }=\\sqrt{(-0.78027283-0)^2 + (-0.84257965-0)^2} =\\sqrt{1.31876615583} = 1.14837544202$ <br>\n",
    "$\\sqrt{||x_{13}-\\mu_1||^2 }=\\sqrt{(-0.78027283-1)^2 + (-0.84257965-1)^2} =\\sqrt{6.56447111583} = 2.56212238502$ <br>\n",
    "We add $x_{13}$ to the $C_0$ cluster as it has the smallest distance. <br>\n",
    "$\\sqrt{||x_{14}-\\mu_0||^2 }=\\sqrt{(-0.48583026-0)^2 + (0.79421967-0)^2 }=\\sqrt{0.86681592574} = 0.93102949778$ <br>\n",
    "$\\sqrt{||x_{14}-\\mu_1||^2 }=\\sqrt{(-0.48583026-1)^2 + (0.79421967-1)^2 }=\\sqrt{2.25003710575} = 1.50001236853$ <br>\n",
    "We add $x_{14}$ to the $C_0$ cluster as it has the smallest distance. <br>\n",
    "$\\sqrt{||x_{15}-\\mu_0||^2 }=\\sqrt{(-0.07361064-0)^2 + (0.49661979-0)^2 }=\\sqrt{0.25204974214} = 0.50204555783$ <br>\n",
    "$\\sqrt{||x_{15}-\\mu_1||^2 }=\\sqrt{(-0.07361064-1)^2 + (0.49661979-1)^2 }=\\sqrt{1.40603144214} = 1.1857619669$ <br>\n",
    "We add $x_{15}$ to the $C_0$ cluster as it has the smallest distance. <br>\n",
    "$\\sqrt{||x_{16}-\\mu_0||^2 }=\\sqrt{(-0.27972045-0)^2 + (0.79421967-0)^2 }=\\sqrt{0.70902841436} = 0.84203824993$ <br>\n",
    "$\\sqrt{||x_{16}-\\mu_1||^2 }=\\sqrt{(-0.27972045-1)^2 + (0.79421967-1)^2 }=\\sqrt{1.68002997436} = 1.29615970249$ <br>\n",
    "We add $x_{16}$ to the $C_0$ cluster as it has the smallest distance. <br>\n",
    "$\\sqrt{||x_{17}-\\mu_0||^2 }=\\sqrt{(0.39749748-0)^2 + (1.53821935-0)^2 =} \\sqrt{2.52412301532} = 1.58874888366$ <br>\n",
    "$\\sqrt{||x_{17}-\\mu_1||^2 }=\\sqrt{(0.39749748-1)^2 + (1.53821935-1)^2 =} \\sqrt{0.65268935532} = 0.80789192056$ <br>\n",
    "We add $x_{17}$ to the $C_1$ cluster as it has the smallest distance. <br>\n",
    "$\\sqrt{||x_{18}-\\mu_0||^2 }=\\sqrt{(1.04527116-0)^2 + (-1.14017952-0)^2 }=\\sqrt{2.39260113576} = 1.54680352203$ <br>\n",
    "$\\sqrt{||x_{18}-\\mu_1||^2 }=\\sqrt{(1.04527116-1)^2 + (-1.14017952-1)^2 }=\\sqrt{4.58241785576} = 2.14065827627$ <br>\n",
    "We add $x_{18}$ to the $C_0$ cluster as it has the smallest distance. <br>\n",
    "$\\sqrt{||x_{19}-\\mu_0||^2 }=\\sqrt{(-0.86860561-0)^2 + (-1.25177947-0)^2} =\\sqrt{2.32142754724} = 1.52362316445$ <br>\n",
    "$\\sqrt{||x_{19}-\\mu_1||^2 }=\\sqrt{(-0.86860561-1)^2 + (-1.25177947-1)^2} =\\sqrt{8.56219770724} = 2.926123324$ <br>\n",
    "We add $x_{19}$ to the $C_0$ cluster as it has the smallest distance. <br>\n",
    "Currently the clusters are the following: $C_0 = \\{x_0, x_1, x_2, x_3, x_5, x_7, x_8, x_9, x_{10}, x_{12}, x_{13}, x_{14}, x_{15}, x_{16}, x_{18}, x_{19}\\}$ and $C_1 = \\{x_4, x_6, x_{11}, x_{17}\\}$. We now recompute the centroids. <br>\n",
    "$\\mu_0 = \\frac{1}{|C_0|} \\Sigma_{x \\in C_0} x = (-0.29444258, -0.27295489)$ <br>\n",
    "$\\mu_1 = \\frac{1}{|C_1|} \\Sigma_{x \\in C_1} x = (1.17777032, 1.09181954)$ <br>\n",
    "Repeat the computation with the new recomputed centroids.\n",
    "You will find that in the next iteration the centroids are the same and the algorithm exits, so we will not include those calculations.\n",
    "\n"
   ]
  },
  {
   "cell_type": "code",
   "execution_count": 8,
   "id": "72a84c6e",
   "metadata": {},
   "outputs": [],
   "source": [
    "def L2_norm(x, y):\n",
    "    return np.sqrt(np.sum((x-y)**2))"
   ]
  },
  {
   "cell_type": "code",
   "execution_count": 53,
   "id": "f6c28810",
   "metadata": {},
   "outputs": [
    {
     "name": "stdout",
     "output_type": "stream",
     "text": [
      "Initial centroids are  [[-1.  -1. ]\n",
      " [ 0.   2.5]]\n",
      "For point  0 the distances to the centroids are as such  [0.5187772225820642, 3.1361832470499658]\n",
      "Point  0 will be assigned to cluster  0\n",
      "For point  1 the distances to the centroids are as such  [1.3164972250219527, 2.345804238172594]\n",
      "Point  1 will be assigned to cluster  0\n",
      "For point  2 the distances to the centroids are as such  [1.0317671006260194, 3.1938136403229445]\n",
      "Point  2 will be assigned to cluster  0\n",
      "For point  3 the distances to the centroids are as such  [0.565948187740679, 3.373592576275495]\n",
      "Point  3 will be assigned to cluster  0\n",
      "For point  4 the distances to the centroids are as such  [2.7105367696736278, 1.1452653676040176]\n",
      "Point  4 will be assigned to cluster  1\n",
      "For point  5 the distances to the centroids are as such  [0.22505607939439606, 3.446306786150684]\n",
      "Point  5 will be assigned to cluster  0\n",
      "For point  6 the distances to the centroids are as such  [3.6619087465622937, 0.2881005232096662]\n",
      "Point  6 will be assigned to cluster  1\n",
      "For point  7 the distances to the centroids are as such  [1.3336886393439287, 2.306946198956042]\n",
      "Point  7 will be assigned to cluster  0\n",
      "For point  8 the distances to the centroids are as such  [1.9396624192234766, 1.7831607390374762]\n",
      "Point  8 will be assigned to cluster  1\n",
      "For point  9 the distances to the centroids are as such  [1.3158477486083924, 3.2060056703490907]\n",
      "Point  9 will be assigned to cluster  0\n",
      "For point  10 the distances to the centroids are as such  [0.8726906085192888, 2.768612834602302]\n",
      "Point  10 will be assigned to cluster  0\n",
      "For point  11 the distances to the centroids are as such  [4.754150700158405, 5.1267260700303305]\n",
      "Point  11 will be assigned to cluster  0\n",
      "For point  12 the distances to the centroids are as such  [1.4484029115824453, 3.1446039830717294]\n",
      "Point  12 will be assigned to cluster  0\n",
      "For point  13 the distances to the centroids are as such  [0.2702983441746858, 3.432442918473994]\n",
      "Point  13 will be assigned to cluster  0\n",
      "For point  14 the distances to the centroids are as such  [1.86643905283627, 1.7736170903502715]\n",
      "Point  14 will be assigned to cluster  1\n",
      "For point  15 the distances to the centroids are as such  [1.7601329602611469, 2.0047320985011368]\n",
      "Point  15 will be assigned to cluster  0\n",
      "For point  16 the distances to the centroids are as such  [1.933397745363953, 1.7285630090160087]\n",
      "Point  16 will be assigned to cluster  1\n",
      "For point  17 the distances to the centroids are as such  [2.897508706158475, 1.040685475373616]\n",
      "Point  17 will be assigned to cluster  1\n",
      "For point  18 the distances to the centroids are as such  [2.050069364759295, 3.7872811801507034]\n",
      "Point  18 will be assigned to cluster  0\n",
      "For point  19 the distances to the centroids are as such  [0.2840024469390537, 3.8510160904139923]\n",
      "Point  19 will be assigned to cluster  0\n",
      "Cluster assignments [[0, 1, 2, 3, 5, 7, 9, 10, 11, 12, 13, 15, 18, 19], [4, 6, 8, 14, 16, 17]]\n",
      "Updated centroids are  [array([-0.00630948, -0.54763691]), array([0.01472213, 1.27781946])]\n",
      "For point  0 the distances to the centroids are as such  [0.7445238346728545, 1.9770343784704703]\n",
      "Point  0 will be assigned to cluster  0\n",
      "For point  1 the distances to the centroids are as such  [0.8718172338731873, 1.1771793958090824]\n",
      "Point  1 will be assigned to cluster  0\n",
      "For point  2 the distances to the centroids are as such  [0.1463847306239627, 1.9718190232951218]\n",
      "Point  2 will be assigned to cluster  0\n",
      "For point  3 the distances to the centroids are as such  [0.5381078742357023, 2.1721038769202208]\n",
      "Point  3 will be assigned to cluster  0\n",
      "For point  4 the distances to the centroids are as such  [1.9580603533965393, 0.287538970960498]\n",
      "Point  4 will be assigned to cluster  1\n",
      "For point  5 the distances to the centroids are as such  [0.8835346332058065, 2.285871689731603]\n",
      "Point  5 will be assigned to cluster  0\n",
      "For point  6 the distances to the centroids are as such  [2.9923576070751223, 1.1832553544014686]\n",
      "Point  6 will be assigned to cluster  1\n",
      "For point  7 the distances to the centroids are as such  [1.0153319318855143, 1.179470126821505]\n",
      "Point  7 will be assigned to cluster  0\n",
      "For point  8 the distances to the centroids are as such  [1.2711435545528007, 0.5702939310300388]\n",
      "Point  8 will be assigned to cluster  1\n",
      "For point  9 the distances to the centroids are as such  [0.3212021792389299, 1.989328380781306]\n",
      "Point  9 will be assigned to cluster  0\n",
      "For point  10 the distances to the centroids are as such  [0.8072793052920997, 1.6268594209566345]\n",
      "Point  10 will be assigned to cluster  0\n",
      "For point  11 the distances to the centroids are as such  [3.786543222264352, 4.374074977091317]\n",
      "Point  11 will be assigned to cluster  0\n",
      "For point  12 the distances to the centroids are as such  [0.41013058751826403, 1.935428063452617]\n",
      "Point  12 will be assigned to cluster  0\n",
      "For point  13 the distances to the centroids are as such  [0.828257499009943, 2.26453292702526]\n",
      "Point  13 will be assigned to cluster  0\n",
      "For point  14 the distances to the centroids are as such  [1.4249628944943022, 0.6960039176618203]\n",
      "Point  14 will be assigned to cluster  1\n",
      "For point  15 the distances to the centroids are as such  [1.0464231988608457, 0.7861778466317989]\n",
      "Point  15 will be assigned to cluster  1\n",
      "For point  16 the distances to the centroids are as such  [1.3694278500946113, 0.5661847720361177]\n",
      "Point  16 will be assigned to cluster  1\n",
      "For point  17 the distances to the centroids are as such  [2.124583825851086, 0.46295256117119316]\n",
      "Point  17 will be assigned to cluster  1\n",
      "For point  18 the distances to the centroids are as such  [1.2070329677070806, 2.628450187564293]\n",
      "Point  18 will be assigned to cluster  0\n",
      "For point  19 the distances to the centroids are as such  [1.1132705662987443, 2.6793914755937265]\n",
      "Point  19 will be assigned to cluster  0\n",
      "Cluster assignments [[0, 1, 2, 3, 5, 7, 9, 10, 11, 12, 13, 18, 19], [4, 6, 8, 14, 15, 16, 17]]\n",
      "Updated centroids are  [array([-0.00113247, -0.62796435]), array([0.00210316, 1.16621951])]\n",
      "For point  0 the distances to the centroids are as such  [0.7542749440263745, 1.869521110847051]\n",
      "Point  0 will be assigned to cluster  0\n",
      "For point  1 the distances to the centroids are as such  [0.9440120513414957, 1.0703678636442262]\n",
      "Point  1 will be assigned to cluster  0\n",
      "For point  2 the distances to the centroids are as such  [0.0672037201813152, 1.8600753172153872]\n",
      "Point  2 will be assigned to cluster  0\n",
      "For point  3 the distances to the centroids are as such  [0.5033045776087732, 2.0604578037249555]\n",
      "Point  3 will be assigned to cluster  0\n",
      "For point  4 the distances to the centroids are as such  [2.0368396188649593, 0.35621560507431094]\n",
      "Point  4 will be assigned to cluster  1\n",
      "For point  5 the distances to the centroids are as such  [0.8650734807429089, 2.1778429766860334]\n",
      "Point  5 will be assigned to cluster  0\n",
      "For point  6 the distances to the centroids are as such  [3.0718491799447327, 1.2949088987271797]\n",
      "Point  6 will be assigned to cluster  1\n",
      "For point  7 the distances to the centroids are as such  [1.0841906873150762, 1.0788773416549213]\n",
      "Point  7 will be assigned to cluster  1\n",
      "For point  8 the distances to the centroids are as such  [1.351632356193606, 0.4586185900225409]\n",
      "Point  8 will be assigned to cluster  1\n",
      "For point  9 the distances to the centroids are as such  [0.2884614789499643, 1.8806032155795367]\n",
      "Point  9 will be assigned to cluster  0\n",
      "For point  10 the distances to the centroids are as such  [0.8519234416015466, 1.5221331309612298]\n",
      "Point  10 will be assigned to cluster  0\n",
      "For point  11 the distances to the centroids are as such  [3.772819056294221, 4.328167734465118]\n",
      "Point  11 will be assigned to cluster  0\n",
      "For point  12 the distances to the centroids are as such  [0.39872237870772603, 1.8288524685812977]\n",
      "Point  12 will be assigned to cluster  0\n",
      "For point  13 the distances to the centroids are as such  [0.8081580479865927, 2.1557797316335465]\n",
      "Point  13 will be assigned to cluster  0\n",
      "For point  14 the distances to the centroids are as such  [1.5025110063069655, 0.6135657284984014]\n",
      "Point  14 will be assigned to cluster  1\n",
      "For point  15 the distances to the centroids are as such  [1.1269172910809109, 0.6738667256843989]\n",
      "Point  15 will be assigned to cluster  1\n",
      "For point  16 the distances to the centroids are as such  [1.4492131119933336, 0.4666995091268802]\n",
      "Point  16 will be assigned to cluster  1\n",
      "For point  17 the distances to the centroids are as such  [2.202557079385981, 0.5428817114250463]\n",
      "Point  17 will be assigned to cluster  1\n",
      "For point  18 the distances to the centroids are as such  [1.1650428883935138, 2.5313387681733737]\n",
      "Point  18 will be assigned to cluster  0\n",
      "For point  19 the distances to the centroids are as such  [1.0684825459744567, 2.5699908274299377]\n",
      "Point  19 will be assigned to cluster  0\n",
      "Cluster assignments [[0, 1, 2, 3, 5, 9, 10, 11, 12, 13, 18, 19], [4, 6, 7, 8, 14, 15, 16, 17]]\n",
      "Updated centroids are  [array([ 0.04907376, -0.7030797 ]), array([-0.07361064,  1.05461956])]\n",
      "For point  0 the distances to the centroids are as such  [0.8153768103009611, 1.7370498378911026]\n",
      "Point  0 will be assigned to cluster  0\n",
      "For point  1 the distances to the centroids are as such  [1.0340567183112894, 0.9373194312489445]\n",
      "Point  1 will be assigned to cluster  1\n",
      "For point  2 the distances to the centroids are as such  [0.06447019298620808, 1.7493907084252036]\n",
      "Point  2 will be assigned to cluster  0\n",
      "For point  3 the distances to the centroids are as such  [0.524356561510122, 1.9354280634526175]\n",
      "Point  3 will be assigned to cluster  0\n",
      "For point  4 the distances to the centroids are as such  [2.1051723131390556, 0.48675847050117244]\n",
      "Point  4 will be assigned to cluster  1\n",
      "For point  5 the distances to the centroids are as such  [0.8991228232138023, 2.045833009138307]\n",
      "Point  5 will be assigned to cluster  0\n",
      "For point  6 the distances to the centroids are as such  [3.1425741768821274, 1.4210271750092178]\n",
      "Point  6 will be assigned to cluster  1\n",
      "For point  7 the distances to the centroids are as such  [1.1745399112579993, 0.9440176739480561]\n",
      "Point  7 will be assigned to cluster  1\n",
      "For point  8 the distances to the centroids are as such  [1.43100867960452, 0.3360921156660184]\n",
      "Point  8 will be assigned to cluster  1\n",
      "For point  9 the distances to the centroids are as such  [0.23083410529505463, 1.7837440556713742]\n",
      "Point  9 will be assigned to cluster  0\n",
      "For point  10 the distances to the centroids are as such  [0.9352066245103924, 1.3880242172745838]\n",
      "Point  10 will be assigned to cluster  0\n",
      "For point  11 the distances to the centroids are as such  [3.7162688298067015, 4.340254551060917]\n",
      "Point  11 will be assigned to cluster  0\n",
      "For point  12 the distances to the centroids are as such  [0.35833611578921215, 1.7390274621931836]\n",
      "Point  12 will be assigned to cluster  0\n",
      "For point  13 the distances to the centroids are as such  [0.8409970352951227, 2.024533592914204]\n",
      "Point  13 will be assigned to cluster  0\n",
      "For point  14 the distances to the centroids are as such  [1.5899772693647294, 0.4875788250675516]\n",
      "Point  14 will be assigned to cluster  1\n",
      "For point  15 the distances to the centroids are as such  [1.2059561955340843, 0.5579997657517473]\n",
      "Point  15 will be assigned to cluster  1\n",
      "For point  16 the distances to the centroids are as such  [1.532974573332083, 0.33209841156621156]\n",
      "Point  16 will be assigned to cluster  1\n",
      "For point  17 the distances to the centroids are as such  [2.268219689557474, 0.6751382308052235]\n",
      "Point  17 will be assigned to cluster  1\n",
      "For point  18 the distances to the centroids are as such  [1.0878720031704314, 2.463542059715321]\n",
      "Point  18 will be assigned to cluster  0\n",
      "For point  19 the distances to the centroids are as such  [1.0692085234793218, 2.439568299160385]\n",
      "Point  19 will be assigned to cluster  0\n",
      "Cluster assignments [[0, 2, 3, 5, 9, 10, 11, 12, 13, 18, 19], [1, 4, 6, 7, 8, 14, 15, 16, 17]]\n",
      "Updated centroids are  [array([ 0.09502465, -0.78508876]), array([-0.11614124,  0.95955293])]\n",
      "For point  0 the distances to the centroids are as such  [0.8792724319595745, 1.6329257995379387]\n",
      "Point  0 will be assigned to cluster  0\n",
      "For point  1 the distances to the centroids are as such  [1.1280618745214066, 0.8331728277768394]\n",
      "Point  1 will be assigned to cluster  1\n",
      "For point  2 the distances to the centroids are as such  [0.14276448682024293, 1.6564403557189178]\n",
      "Point  2 will be assigned to cluster  0\n",
      "For point  3 the distances to the centroids are as such  [0.5543995895734446, 1.8339706431198464]\n",
      "Point  3 will be assigned to cluster  0\n",
      "For point  4 the distances to the centroids are as such  [2.1823378186768863, 0.5843728890185093]\n",
      "Point  4 will be assigned to cluster  1\n",
      "For point  5 the distances to the centroids are as such  [0.9359533571705702, 1.9417620620083726]\n",
      "Point  5 will be assigned to cluster  0\n",
      "For point  6 the distances to the centroids are as such  [3.221406763941815, 1.5237843714427621]\n",
      "Point  6 will be assigned to cluster  1\n",
      "For point  7 the distances to the centroids are as such  [1.2682772328926462, 0.8416660285284374]\n",
      "Point  7 will be assigned to cluster  1\n",
      "For point  8 the distances to the centroids are as such  [1.5178883291740857, 0.24009013946814162]\n",
      "Point  8 will be assigned to cluster  1\n",
      "For point  9 the distances to the centroids are as such  [0.206033690207247, 1.7000633204417668]\n",
      "Point  9 will be assigned to cluster  0\n",
      "For point  10 the distances to the centroids are as such  [1.0203924883132156, 1.2841144261471344]\n",
      "Point  10 will be assigned to cluster  0\n",
      "For point  11 the distances to the centroids are as such  [3.6649286698312964, 4.334193913305947]\n",
      "Point  11 will be assigned to cluster  0\n",
      "For point  12 the distances to the centroids are as such  [0.3448902629264863, 1.6603774011257746]\n",
      "Point  12 will be assigned to cluster  0\n",
      "For point  13 the distances to the centroids are as such  [0.8771834983821938, 1.920612558591907]\n",
      "Point  13 will be assigned to cluster  0\n",
      "For point  14 the distances to the centroids are as such  [1.6827381057586017, 0.40497537799717465]\n",
      "Point  14 will be assigned to cluster  1\n",
      "For point  15 the distances to the centroids are as such  [1.292754685655167, 0.46488271926429375]\n",
      "Point  15 will be assigned to cluster  1\n",
      "For point  16 the distances to the centroids are as such  [1.6231601895844978, 0.23257954837350128]\n",
      "Point  16 will be assigned to cluster  1\n",
      "For point  17 the distances to the centroids are as such  [2.3429149394819246, 0.7737438634145631]\n",
      "Point  17 will be assigned to cluster  1\n",
      "For point  18 the distances to the centroids are as such  [1.014424895798682, 2.399532271572335]\n",
      "Point  18 will be assigned to cluster  0\n",
      "For point  19 the distances to the centroids are as such  [1.070692999026572, 2.3358496595805343]\n",
      "Point  19 will be assigned to cluster  0\n",
      "Cluster assignments [[0, 2, 3, 5, 9, 10, 11, 12, 13, 18, 19], [1, 4, 6, 7, 8, 14, 15, 16, 17]]\n",
      "Updated centroids are  [array([ 0.09502465, -0.78508876]), array([-0.11614124,  0.95955293])]\n"
     ]
    }
   ],
   "source": [
    "def k_means(X, centroids=np.array([np.array([-1,-1]),np.array([0,2.5])]), k=2):\n",
    "    print(\"Initial centroids are \", centroids)\n",
    "    prev_centroids = np.array([np.array([1,0]),np.array([0,1])])\n",
    "    while np.not_equal(prev_centroids,centroids).any():\n",
    "        \n",
    "        sorted_points = [[] for _ in range(k)]\n",
    "        sorted_points_idx = [[] for _ in range(k)]\n",
    "        for i,x in enumerate(X):\n",
    "            dists = [L2_norm(x,c) for c in centroids]\n",
    "            print(\"For point \", i, \"the distances to the centroids are as such \", dists)\n",
    "            centroid_idx = np.argmin(dists)\n",
    "            print(\"Point \", i, \"will be assigned to cluster \", centroid_idx)\n",
    "            sorted_points[centroid_idx].append(x)\n",
    "            sorted_points_idx[centroid_idx].append(i)\n",
    "\n",
    "        print(\"Cluster assignments\" ,sorted_points_idx)\n",
    "        prev_centroids = centroids\n",
    "        centroids = [np.mean(cluster, axis=0) for cluster in sorted_points]\n",
    "        for i, centroid in enumerate(centroids):\n",
    "                if np.isnan(centroid).any():  # Catch any np.nans, resulting from a centroid having no points\n",
    "                    centroids[i] = prev_centroids[i]\n",
    "        print(\"Updated centroids are \", centroids)\n",
    "\n",
    "k_means(X_scaled)"
   ]
  },
  {
   "cell_type": "markdown",
   "id": "alive-somerset",
   "metadata": {},
   "source": [
    "### Task 1.1.2 (2 point)\n",
    "<span style='color: green'>**\\[Compute by hand\\]**</span> <br>\n",
    "A) Show two examples with two different initial cluster assignments that lead to a different result. <br>"
   ]
  },
  {
   "attachments": {},
   "cell_type": "markdown",
   "id": "716118d5",
   "metadata": {},
   "source": [
    "*******************\n",
    "**YOUR ANSWER HERE**\n",
    "******************\n",
    "\n",
    "1)<br>\n",
    "Current centroids are  $\\mu0 = (0,1),\\mu_1=(3,-1)$<br>\n",
    "For point  0 the distances to the centroids are as such  (1.7177619292044644, 3.7783274636016437)<br>\n",
    "Point  0 will be assigned to cluster  0<br>\n",
    "For point  1 the distances to the centroids are as such  (0.9218770379952362, 3.6584495247964344)<br>\n",
    "Point  1 will be assigned to cluster  0<br>\n",
    "For point  2 the distances to the centroids are as such  (1.6938436890276736, 3.0302343773397147)<br>\n",
    "Point  2 will be assigned to cluster  0<br>\n",
    "For point  3 the distances to the centroids are as such  (1.8982591845808912, 3.4599689786470216)<br>\n",
    "Point  3 will be assigned to cluster  0<br>\n",
    "For point  4 the distances to the centroids are as such  (0.4794695114381253, 3.620669272094072)<br>\n",
    "Point  4 will be assigned to cluster  0<br>\n",
    "For point  5 the distances to the centroids are as such  (2.0246707202438707, 3.8423874146774892)<br>\n",
    "Point  5 will be assigned to cluster  0<br>\n",
    "For point  6 the distances to the centroids are as such  (1.4581011109827118, 4.378562785467728)<br>\n",
    "Point  6 will be assigned to cluster  0<br>\n",
    "For point  7 the distances to the centroids are as such  (0.9445953739738483, 3.8219868766754903)<br>\n",
    "Point  7 will be assigned to cluster  0<br>\n",
    "For point  8 the distances to the centroids are as such  (0.29853193246943616, 3.547778110633213)<br>\n",
    "Point  8 will be assigned to cluster  0<br>\n",
    "For point  9 the distances to the centroids are as such  (1.7167216524691773, 2.7374608117105983)<br>\n",
    "Point  9 will be assigned to cluster  0<br>\n",
    "For point  10 the distances to the centroids are as such  (1.377053828205515, 3.8121730614414484)<br>\n",
    "Point  10 will be assigned to cluster  0<br>\n",
    "For point  11 the distances to the centroids are as such  (4.249609563909585, 0.7541921519972866)<br>\n",
    "Point  11 will be assigned to cluster  1<br>\n",
    "For point  12 the distances to the centroids are as such  (1.6674516455949373, 2.630188422717371)<br>\n",
    "Point  12 will be assigned to cluster  0<br>\n",
    "For point  13 the distances to the centroids are as such  (2.0009811217817246, 3.7835491107892887)<br>\n",
    "Point  13 will be assigned to cluster  0<br>\n",
    "For point  14 the distances to the centroids are as such  (0.5276140473324437, 3.9204893550804956)<br>\n",
    "Point  14 will be assigned to cluster  0<br>\n",
    "For point  15 the distances to the centroids are as such  (0.508733880646781, 3.4186186093484596)<br>\n",
    "Point  15 will be assigned to cluster  0<br>\n",
    "For point  16 the distances to the centroids are as such  (0.3472593784168214, 3.738420848920697)<br>\n",
    "Point  16 will be assigned to cluster  0<br>\n",
    "For point  17 the distances to the centroids are as such  (0.6690921621275788, 3.6353234858785464)<br>\n",
    "Point  17 will be assigned to cluster  0<br>\n",
    "For point  18 the distances to the centroids are as such  (2.381797676853659, 1.9597487469684451)<br>\n",
    "Point  18 will be assigned to cluster  1<br>\n",
    "For point  19 the distances to the centroids are as such  (2.4135008815242247, 3.8767902005165724)<br>\n",
    "Point  19 will be assigned to cluster  0<br>\n",
    "Currently the clusters are the following: $C_0= \\{x_0, x_1, x_2, x_3, x_4, x_5, x_6, x_7, x_8, x_9, x_{10}, x_{12}, x_{13}, x_{14}, x_{15}, x_{16}, x_{17}, x_{19}\\}, C_1 = \\{x_{11}, x_{18}\\}$<br>\n",
    "$\\mu_0 = \\frac{1}{|C_0|} \\Sigma_{x \\in C_0} x = (-0.26663411,  0.11841995)$ <br>\n",
    "$\\mu_1 = \\frac{1}{|C_1|} \\Sigma_{x \\in C_1} x = (2.39970702, -1.06577955)$ <br>\n",
    "Repeat the computation with the new recomputed centroids.<br>\n",
    "You will find that in the next iteration the centroids are the same and the algorithm exits, so we will not include those calculations.\n",
    "<br>\n",
    "<br>\n",
    "2)<br>\n",
    "Initial centroids are  [[-1.  -1. ],[ 0.   2.5]] with which we get the following cluster assignments: \n",
    "[[0, 1, 2, 3, 5, 7, 9, 10, 11, 12, 13, 15, 18, 19], [4, 6, 8, 14, 16, 17]]\n",
    "\n",
    "Centroids in iteration 2 are  [[-0.00630948, -0.54763691][0.01472213, 1.27781946]]\n",
    "Cluster assignments [[0, 1, 2, 3, 5, 7, 9, 10, 11, 12, 13, 18, 19], [4, 6, 8, 14, 15, 16, 17]]\n",
    "\n",
    "Centroids in iteration 3 are  [[-0.00113247, -0.62796435],[0.00210316, 1.16621951]]\n",
    "Cluster assignments [[0, 1, 2, 3, 5, 9, 10, 11, 12, 13, 18, 19], [4, 6, 7, 8, 14, 15, 16, 17]]\n",
    "\n",
    "Current centroids in iteration 4 are  [array([ 0.04907376, -0.7030797 ]), array([-0.07361064,  1.05461956])]\n",
    "Cluster assignments [[0, 2, 3, 5, 9, 10, 11, 12, 13, 18, 19], [1, 4, 6, 7, 8, 14, 15, 16, 17]]\n",
    "\n",
    "Updated centroids are  [array([ 0.09502465, -0.78508876]), array([-0.11614124,  0.95955293])]\n",
    "Cluster assignments [[0, 2, 3, 5, 9, 10, 11, 12, 13, 18, 19], [1, 4, 6, 7, 8, 14, 15, 16, 17]]\n",
    "\n",
    "After which the algorithm exits.\n"
   ]
  },
  {
   "cell_type": "markdown",
   "id": "israeli-chicago",
   "metadata": {},
   "source": [
    "<span style='color: green'>**\\[Motivate\\]**</span> <br>\n",
    "B) How you explain the difference between the two cluster assignments in point A)?"
   ]
  },
  {
   "attachments": {},
   "cell_type": "markdown",
   "id": "unable-office",
   "metadata": {},
   "source": [
    "*******************\n",
    "**YOUR ANSWER HERE**\n",
    "******************\n",
    "\n",
    "The first initialization had one centroid on the far left and one on the far right which lead to the outlier having a large effect."
   ]
  },
  {
   "cell_type": "markdown",
   "id": "statutory-management",
   "metadata": {},
   "source": [
    "### Task 1.1.3 (5 points)\n",
    "<span style='color: green'>**\\[Compute by hand\\]**</span> the dendrogram for the dataset of Task 1.1.1. using **average-link**."
   ]
  },
  {
   "cell_type": "markdown",
   "id": "specified-template",
   "metadata": {},
   "source": [
    "*******************\n",
    "**YOUR ANSWER HERE**\n",
    "******************"
   ]
  },
  {
   "cell_type": "markdown",
   "id": "first-benjamin",
   "metadata": {},
   "source": [
    "### Task 1.1.4 (2 points)\n",
    "A) <span style='color: green'>**\\[Compute by hand\\]**</span> the density-based clustering for the dataset of Task 1.1.1 using $\\epsilon=0.35$ and $MinPts=3$. Present at least 2 iterations of the algorithm.<br> \n",
    "<font color='red'>**IMPORTANT: For this exercise you can use the DBSCAN from sklearn ONLY TO CHECK YOUR RESULTS**</font>"
   ]
  },
  {
   "cell_type": "markdown",
   "id": "american-emperor",
   "metadata": {},
   "source": [
    "*******************\n",
    "**YOUR ANSWER HERE**\n",
    "******************"
   ]
  },
  {
   "cell_type": "code",
   "execution_count": 6,
   "id": "90bfa10a",
   "metadata": {},
   "outputs": [
    {
     "name": "stdout",
     "output_type": "stream",
     "text": [
      "[[-0.75082858 -0.54497977]\n",
      " [-0.456386    0.19901992]\n",
      " [-0.01472213 -0.69377971]\n",
      " [-0.456386   -0.84257965]\n",
      " [ 0.27972045  1.38941942]\n",
      " [-0.83916135 -0.84257965]\n",
      " [ 0.27972045  2.43101898]\n",
      " [-0.60360729  0.27341989]\n",
      " [-0.1030549   0.7198197 ]\n",
      " [ 0.27972045 -0.69377971]\n",
      " [-0.72138432 -0.17297993]\n",
      " [ 3.75414288 -0.99137958]\n",
      " [ 0.39749748 -0.61937974]\n",
      " [-0.78027283 -0.84257965]\n",
      " [-0.48583026  0.79421967]\n",
      " [-0.07361064  0.49661979]\n",
      " [-0.27972045  0.79421967]\n",
      " [ 0.39749748  1.53821935]\n",
      " [ 1.04527116 -1.14017952]\n",
      " [-0.86860561 -1.25177947]]\n"
     ]
    }
   ],
   "source": [
    "print(X_scaled)"
   ]
  },
  {
   "attachments": {},
   "cell_type": "markdown",
   "id": "323a8266",
   "metadata": {},
   "source": [
    "$\\epsilon = 0.35$ and $MinPts = 3$<br>\n",
    "\n",
    "To calculate which points are core points I do the following:<br>\n",
    "For every point x calculate the neighbourhood of x by finding all points have distance <= $\\epsilon$ to x.<br>\n",
    "$N(x)= \\{y \\in D | \\sqrt{(x-y)^2} \\leq \\epsilon \\}$\n"
   ]
  },
  {
   "attachments": {},
   "cell_type": "markdown",
   "id": "a47eab52",
   "metadata": {},
   "source": [
    "For example consider x = (-0.75082858, -0.54497977) <br>\n",
    "\n",
    "Firstly the point itself will always be in the neighborhood, since $\\sqrt{(-0.75082858-(-0.75082858))^2+(-0.54497977-(-0.54497977))^2} =0$.<br>\n",
    "We then ask for all other points <br>\n",
    "Is point (-0.456386,0.19901992) in the neighborhood? $\\sqrt{(-0.75082858-(-0.456386))^2+(-0.54497977-0.19901992)^2} = 0.8001450$.<br>\n",
    "So not in the neighborhood.<br>\n",
    "Is point (-0.01472213,-0.69377971) in the neighborhood? $\\sqrt{(-0.75082858-(-0.01472213))^2+(-0.54497977-(-0.69377971))^2} = 0.75099542$.<br>\n",
    "So not in the neighborhood.<br>\n",
    "You will find the neigborhood of x to be (-0.75082858, -0.54497977), (-0.83916135, -0.84257965), (-0.78027283, -0.84257965).<br>\n",
    "\n",
    "A point will be a core point if the number of neighbors is equal or larger that $MinPts$<br>\n",
    "Core points are the following:<br>\n",
    "(-0.75082858, -0.54497977), (-0.83916135, -0.84257965), (-0.1030549,  0.7198197), (0.27972045, -0.69377971), (-0.78027283, -0.84257965), (-0.27972045,  0.79421967)"
   ]
  },
  {
   "attachments": {},
   "cell_type": "markdown",
   "id": "047a3c89",
   "metadata": {},
   "source": [
    "We will now compute the density-based clusters of the first iteration.<br>\n",
    "\n",
    "x = (-0.75082858, -0.54497977)<br>\n",
    "x is not part of any cluster<br>\n",
    "x is in fact a core object <br>\n",
    "cluster1 = all density reachable points from x = (-0.7508285769420588,-0.5449797712175413), (-0.45638599774909466,0.1990199164514553), (-0.7802728348613551,-0.8425796462851401), (-0.839161350699948,-0.8425796462851401), (-0.45638599774909466,-0.8425796462851401)<br>\n",
    "\n",
    "next iteration:\n",
    "x = (-0.456386, 0.19901992) <br>\n",
    "x is already part of a cluster1<br>\n",
    "N <- N union  \\{x\\}\n",
    "\n"
   ]
  },
  {
   "cell_type": "code",
   "execution_count": 7,
   "id": "cba64c78",
   "metadata": {},
   "outputs": [],
   "source": [
    "def L2_norm(x, y):\n",
    "    return np.sqrt(np.sum((x-y)**2))\n",
    "    "
   ]
  },
  {
   "cell_type": "code",
   "execution_count": 8,
   "id": "f440e4ec",
   "metadata": {},
   "outputs": [],
   "source": [
    "core_points = []\n",
    "neighbors = dict()\n",
    "e=0.35\n",
    "for x in X_scaled:\n",
    "    x_neighbors = []\n",
    "    x_str = \"(\" + str(x[0]) +\",\" + str(x[1])+\")\"\n",
    "    for y in X_scaled:\n",
    "        if round(L2_norm(x,y),3) <= e:\n",
    "            x_neighbors.append(y)\n",
    "    neighbors[x.tostring()] = np.array(x_neighbors)\n",
    "    if len(x_neighbors) >= 3:\n",
    "        core_points.append(x)\n",
    "    "
   ]
  },
  {
   "cell_type": "code",
   "execution_count": 9,
   "id": "c74dcec8",
   "metadata": {},
   "outputs": [],
   "source": [
    "core = np.array(core_points)\n",
    "def directly_density_reachable(y,x):\n",
    "    print(\"neighbors of \", x, \" is \", neighbors[x.tostring()])\n",
    "    print(\"Is \", x, \" core:\", y in neighbors[x.tostring()] and  x in core)\n",
    "    return y in neighbors[x.tostring()] and  x in core"
   ]
  },
  {
   "cell_type": "code",
   "execution_count": 10,
   "id": "908e3379",
   "metadata": {},
   "outputs": [
    {
     "name": "stdout",
     "output_type": "stream",
     "text": [
      "neighbors of  [-0.75082858 -0.54497977]  is  [[-0.75082858 -0.54497977]\n",
      " [-0.83916135 -0.84257965]\n",
      " [-0.78027283 -0.84257965]]\n",
      "Is  [-0.75082858 -0.54497977]  core: True\n",
      "neighbors of  [-0.83916135 -0.84257965]  is  [[-0.75082858 -0.54497977]\n",
      " [-0.83916135 -0.84257965]\n",
      " [-0.78027283 -0.84257965]]\n",
      "Is  [-0.83916135 -0.84257965]  core: True\n",
      "neighbors of  [-0.78027283 -0.84257965]  is  [[-0.75082858 -0.54497977]\n",
      " [-0.456386   -0.84257965]\n",
      " [-0.83916135 -0.84257965]\n",
      " [-0.78027283 -0.84257965]]\n",
      "Is  [-0.78027283 -0.84257965]  core: True\n",
      "neighbors of  [-0.75082858 -0.54497977]  is  [[-0.75082858 -0.54497977]\n",
      " [-0.83916135 -0.84257965]\n",
      " [-0.78027283 -0.84257965]]\n",
      "Is  [-0.75082858 -0.54497977]  core: False\n",
      "neighbors of  [-0.83916135 -0.84257965]  is  [[-0.75082858 -0.54497977]\n",
      " [-0.83916135 -0.84257965]\n",
      " [-0.78027283 -0.84257965]]\n",
      "Is  [-0.83916135 -0.84257965]  core: False\n",
      "neighbors of  [-0.78027283 -0.84257965]  is  [[-0.75082858 -0.54497977]\n",
      " [-0.456386   -0.84257965]\n",
      " [-0.83916135 -0.84257965]\n",
      " [-0.78027283 -0.84257965]]\n",
      "Is  [-0.78027283 -0.84257965]  core: True\n",
      "neighbors of  [-0.75082858 -0.54497977]  is  [[-0.75082858 -0.54497977]\n",
      " [-0.83916135 -0.84257965]\n",
      " [-0.78027283 -0.84257965]]\n",
      "Is  [-0.75082858 -0.54497977]  core: False\n",
      "neighbors of  [-0.83916135 -0.84257965]  is  [[-0.75082858 -0.54497977]\n",
      " [-0.83916135 -0.84257965]\n",
      " [-0.78027283 -0.84257965]]\n",
      "Is  [-0.83916135 -0.84257965]  core: False\n",
      "neighbors of  [-0.78027283 -0.84257965]  is  [[-0.75082858 -0.54497977]\n",
      " [-0.456386   -0.84257965]\n",
      " [-0.83916135 -0.84257965]\n",
      " [-0.78027283 -0.84257965]]\n",
      "Is  [-0.78027283 -0.84257965]  core: False\n",
      "neighbors of  [-0.75082858 -0.54497977]  is  [[-0.75082858 -0.54497977]\n",
      " [-0.83916135 -0.84257965]\n",
      " [-0.78027283 -0.84257965]]\n",
      "Is  [-0.75082858 -0.54497977]  core: True\n",
      "neighbors of  [-0.83916135 -0.84257965]  is  [[-0.75082858 -0.54497977]\n",
      " [-0.83916135 -0.84257965]\n",
      " [-0.78027283 -0.84257965]]\n",
      "Is  [-0.83916135 -0.84257965]  core: True\n",
      "neighbors of  [-0.78027283 -0.84257965]  is  [[-0.75082858 -0.54497977]\n",
      " [-0.456386   -0.84257965]\n",
      " [-0.83916135 -0.84257965]\n",
      " [-0.78027283 -0.84257965]]\n",
      "Is  [-0.78027283 -0.84257965]  core: True\n",
      "neighbors of  [-0.75082858 -0.54497977]  is  [[-0.75082858 -0.54497977]\n",
      " [-0.83916135 -0.84257965]\n",
      " [-0.78027283 -0.84257965]]\n",
      "Is  [-0.75082858 -0.54497977]  core: False\n",
      "neighbors of  [-0.83916135 -0.84257965]  is  [[-0.75082858 -0.54497977]\n",
      " [-0.83916135 -0.84257965]\n",
      " [-0.78027283 -0.84257965]]\n",
      "Is  [-0.83916135 -0.84257965]  core: False\n",
      "neighbors of  [-0.78027283 -0.84257965]  is  [[-0.75082858 -0.54497977]\n",
      " [-0.456386   -0.84257965]\n",
      " [-0.83916135 -0.84257965]\n",
      " [-0.78027283 -0.84257965]]\n",
      "Is  [-0.78027283 -0.84257965]  core: False\n",
      "neighbors of  [-0.75082858 -0.54497977]  is  [[-0.75082858 -0.54497977]\n",
      " [-0.83916135 -0.84257965]\n",
      " [-0.78027283 -0.84257965]]\n",
      "Is  [-0.75082858 -0.54497977]  core: True\n",
      "neighbors of  [-0.83916135 -0.84257965]  is  [[-0.75082858 -0.54497977]\n",
      " [-0.83916135 -0.84257965]\n",
      " [-0.78027283 -0.84257965]]\n",
      "Is  [-0.83916135 -0.84257965]  core: True\n",
      "neighbors of  [-0.78027283 -0.84257965]  is  [[-0.75082858 -0.54497977]\n",
      " [-0.456386   -0.84257965]\n",
      " [-0.83916135 -0.84257965]\n",
      " [-0.78027283 -0.84257965]]\n",
      "Is  [-0.78027283 -0.84257965]  core: True\n",
      "neighbors of  [-0.75082858 -0.54497977]  is  [[-0.75082858 -0.54497977]\n",
      " [-0.83916135 -0.84257965]\n",
      " [-0.78027283 -0.84257965]]\n",
      "Is  [-0.75082858 -0.54497977]  core: False\n",
      "neighbors of  [-0.83916135 -0.84257965]  is  [[-0.75082858 -0.54497977]\n",
      " [-0.83916135 -0.84257965]\n",
      " [-0.78027283 -0.84257965]]\n",
      "Is  [-0.83916135 -0.84257965]  core: False\n",
      "neighbors of  [-0.78027283 -0.84257965]  is  [[-0.75082858 -0.54497977]\n",
      " [-0.456386   -0.84257965]\n",
      " [-0.83916135 -0.84257965]\n",
      " [-0.78027283 -0.84257965]]\n",
      "Is  [-0.78027283 -0.84257965]  core: False\n",
      "neighbors of  [-0.75082858 -0.54497977]  is  [[-0.75082858 -0.54497977]\n",
      " [-0.83916135 -0.84257965]\n",
      " [-0.78027283 -0.84257965]]\n",
      "Is  [-0.75082858 -0.54497977]  core: False\n",
      "neighbors of  [-0.83916135 -0.84257965]  is  [[-0.75082858 -0.54497977]\n",
      " [-0.83916135 -0.84257965]\n",
      " [-0.78027283 -0.84257965]]\n",
      "Is  [-0.83916135 -0.84257965]  core: False\n",
      "neighbors of  [-0.78027283 -0.84257965]  is  [[-0.75082858 -0.54497977]\n",
      " [-0.456386   -0.84257965]\n",
      " [-0.83916135 -0.84257965]\n",
      " [-0.78027283 -0.84257965]]\n",
      "Is  [-0.78027283 -0.84257965]  core: False\n",
      "neighbors of  [-0.75082858 -0.54497977]  is  [[-0.75082858 -0.54497977]\n",
      " [-0.83916135 -0.84257965]\n",
      " [-0.78027283 -0.84257965]]\n",
      "Is  [-0.75082858 -0.54497977]  core: False\n",
      "neighbors of  [-0.83916135 -0.84257965]  is  [[-0.75082858 -0.54497977]\n",
      " [-0.83916135 -0.84257965]\n",
      " [-0.78027283 -0.84257965]]\n",
      "Is  [-0.83916135 -0.84257965]  core: False\n",
      "neighbors of  [-0.78027283 -0.84257965]  is  [[-0.75082858 -0.54497977]\n",
      " [-0.456386   -0.84257965]\n",
      " [-0.83916135 -0.84257965]\n",
      " [-0.78027283 -0.84257965]]\n",
      "Is  [-0.78027283 -0.84257965]  core: False\n",
      "neighbors of  [-0.75082858 -0.54497977]  is  [[-0.75082858 -0.54497977]\n",
      " [-0.83916135 -0.84257965]\n",
      " [-0.78027283 -0.84257965]]\n",
      "Is  [-0.75082858 -0.54497977]  core: False\n",
      "neighbors of  [-0.83916135 -0.84257965]  is  [[-0.75082858 -0.54497977]\n",
      " [-0.83916135 -0.84257965]\n",
      " [-0.78027283 -0.84257965]]\n",
      "Is  [-0.83916135 -0.84257965]  core: False\n",
      "neighbors of  [-0.78027283 -0.84257965]  is  [[-0.75082858 -0.54497977]\n",
      " [-0.456386   -0.84257965]\n",
      " [-0.83916135 -0.84257965]\n",
      " [-0.78027283 -0.84257965]]\n",
      "Is  [-0.78027283 -0.84257965]  core: False\n",
      "neighbors of  [-0.75082858 -0.54497977]  is  [[-0.75082858 -0.54497977]\n",
      " [-0.83916135 -0.84257965]\n",
      " [-0.78027283 -0.84257965]]\n",
      "Is  [-0.75082858 -0.54497977]  core: False\n",
      "neighbors of  [-0.83916135 -0.84257965]  is  [[-0.75082858 -0.54497977]\n",
      " [-0.83916135 -0.84257965]\n",
      " [-0.78027283 -0.84257965]]\n",
      "Is  [-0.83916135 -0.84257965]  core: False\n",
      "neighbors of  [-0.78027283 -0.84257965]  is  [[-0.75082858 -0.54497977]\n",
      " [-0.456386   -0.84257965]\n",
      " [-0.83916135 -0.84257965]\n",
      " [-0.78027283 -0.84257965]]\n",
      "Is  [-0.78027283 -0.84257965]  core: False\n",
      "neighbors of  [-0.75082858 -0.54497977]  is  [[-0.75082858 -0.54497977]\n",
      " [-0.83916135 -0.84257965]\n",
      " [-0.78027283 -0.84257965]]\n",
      "Is  [-0.75082858 -0.54497977]  core: False\n",
      "neighbors of  [-0.83916135 -0.84257965]  is  [[-0.75082858 -0.54497977]\n",
      " [-0.83916135 -0.84257965]\n",
      " [-0.78027283 -0.84257965]]\n",
      "Is  [-0.83916135 -0.84257965]  core: False\n",
      "neighbors of  [-0.78027283 -0.84257965]  is  [[-0.75082858 -0.54497977]\n",
      " [-0.456386   -0.84257965]\n",
      " [-0.83916135 -0.84257965]\n",
      " [-0.78027283 -0.84257965]]\n",
      "Is  [-0.78027283 -0.84257965]  core: False\n",
      "neighbors of  [-0.75082858 -0.54497977]  is  [[-0.75082858 -0.54497977]\n",
      " [-0.83916135 -0.84257965]\n",
      " [-0.78027283 -0.84257965]]\n",
      "Is  [-0.75082858 -0.54497977]  core: False\n",
      "neighbors of  [-0.83916135 -0.84257965]  is  [[-0.75082858 -0.54497977]\n",
      " [-0.83916135 -0.84257965]\n",
      " [-0.78027283 -0.84257965]]\n",
      "Is  [-0.83916135 -0.84257965]  core: False\n",
      "neighbors of  [-0.78027283 -0.84257965]  is  [[-0.75082858 -0.54497977]\n",
      " [-0.456386   -0.84257965]\n",
      " [-0.83916135 -0.84257965]\n",
      " [-0.78027283 -0.84257965]]\n",
      "Is  [-0.78027283 -0.84257965]  core: False\n",
      "neighbors of  [-0.75082858 -0.54497977]  is  [[-0.75082858 -0.54497977]\n",
      " [-0.83916135 -0.84257965]\n",
      " [-0.78027283 -0.84257965]]\n",
      "Is  [-0.75082858 -0.54497977]  core: True\n",
      "neighbors of  [-0.83916135 -0.84257965]  is  [[-0.75082858 -0.54497977]\n",
      " [-0.83916135 -0.84257965]\n",
      " [-0.78027283 -0.84257965]]\n",
      "Is  [-0.83916135 -0.84257965]  core: True\n",
      "neighbors of  [-0.78027283 -0.84257965]  is  [[-0.75082858 -0.54497977]\n",
      " [-0.456386   -0.84257965]\n",
      " [-0.83916135 -0.84257965]\n",
      " [-0.78027283 -0.84257965]]\n",
      "Is  [-0.78027283 -0.84257965]  core: True\n",
      "neighbors of  [-0.75082858 -0.54497977]  is  [[-0.75082858 -0.54497977]\n",
      " [-0.83916135 -0.84257965]\n",
      " [-0.78027283 -0.84257965]]\n",
      "Is  [-0.75082858 -0.54497977]  core: False\n",
      "neighbors of  [-0.83916135 -0.84257965]  is  [[-0.75082858 -0.54497977]\n",
      " [-0.83916135 -0.84257965]\n",
      " [-0.78027283 -0.84257965]]\n",
      "Is  [-0.83916135 -0.84257965]  core: False\n",
      "neighbors of  [-0.78027283 -0.84257965]  is  [[-0.75082858 -0.54497977]\n",
      " [-0.456386   -0.84257965]\n",
      " [-0.83916135 -0.84257965]\n",
      " [-0.78027283 -0.84257965]]\n",
      "Is  [-0.78027283 -0.84257965]  core: False\n",
      "neighbors of  [-0.75082858 -0.54497977]  is  [[-0.75082858 -0.54497977]\n",
      " [-0.83916135 -0.84257965]\n",
      " [-0.78027283 -0.84257965]]\n",
      "Is  [-0.75082858 -0.54497977]  core: False\n",
      "neighbors of  [-0.83916135 -0.84257965]  is  [[-0.75082858 -0.54497977]\n",
      " [-0.83916135 -0.84257965]\n",
      " [-0.78027283 -0.84257965]]\n",
      "Is  [-0.83916135 -0.84257965]  core: False\n",
      "neighbors of  [-0.78027283 -0.84257965]  is  [[-0.75082858 -0.54497977]\n",
      " [-0.456386   -0.84257965]\n",
      " [-0.83916135 -0.84257965]\n",
      " [-0.78027283 -0.84257965]]\n",
      "Is  [-0.78027283 -0.84257965]  core: False\n",
      "neighbors of  [-0.75082858 -0.54497977]  is  [[-0.75082858 -0.54497977]\n",
      " [-0.83916135 -0.84257965]\n",
      " [-0.78027283 -0.84257965]]\n",
      "Is  [-0.75082858 -0.54497977]  core: False\n",
      "neighbors of  [-0.83916135 -0.84257965]  is  [[-0.75082858 -0.54497977]\n",
      " [-0.83916135 -0.84257965]\n",
      " [-0.78027283 -0.84257965]]\n",
      "Is  [-0.83916135 -0.84257965]  core: False\n",
      "neighbors of  [-0.78027283 -0.84257965]  is  [[-0.75082858 -0.54497977]\n",
      " [-0.456386   -0.84257965]\n",
      " [-0.83916135 -0.84257965]\n",
      " [-0.78027283 -0.84257965]]\n",
      "Is  [-0.78027283 -0.84257965]  core: False\n",
      "neighbors of  [-0.75082858 -0.54497977]  is  [[-0.75082858 -0.54497977]\n",
      " [-0.83916135 -0.84257965]\n",
      " [-0.78027283 -0.84257965]]\n",
      "Is  [-0.75082858 -0.54497977]  core: False\n",
      "neighbors of  [-0.83916135 -0.84257965]  is  [[-0.75082858 -0.54497977]\n",
      " [-0.83916135 -0.84257965]\n",
      " [-0.78027283 -0.84257965]]\n",
      "Is  [-0.83916135 -0.84257965]  core: False\n",
      "neighbors of  [-0.78027283 -0.84257965]  is  [[-0.75082858 -0.54497977]\n",
      " [-0.456386   -0.84257965]\n",
      " [-0.83916135 -0.84257965]\n",
      " [-0.78027283 -0.84257965]]\n",
      "Is  [-0.78027283 -0.84257965]  core: False\n",
      "neighbors of  [-0.75082858 -0.54497977]  is  [[-0.75082858 -0.54497977]\n",
      " [-0.83916135 -0.84257965]\n",
      " [-0.78027283 -0.84257965]]\n",
      "Is  [-0.75082858 -0.54497977]  core: False\n",
      "neighbors of  [-0.83916135 -0.84257965]  is  [[-0.75082858 -0.54497977]\n",
      " [-0.83916135 -0.84257965]\n",
      " [-0.78027283 -0.84257965]]\n",
      "Is  [-0.83916135 -0.84257965]  core: False\n",
      "neighbors of  [-0.78027283 -0.84257965]  is  [[-0.75082858 -0.54497977]\n",
      " [-0.456386   -0.84257965]\n",
      " [-0.83916135 -0.84257965]\n",
      " [-0.78027283 -0.84257965]]\n",
      "Is  [-0.78027283 -0.84257965]  core: False\n",
      "neighbors of  [-0.75082858 -0.54497977]  is  [[-0.75082858 -0.54497977]\n",
      " [-0.83916135 -0.84257965]\n",
      " [-0.78027283 -0.84257965]]\n",
      "Is  [-0.75082858 -0.54497977]  core: False\n",
      "neighbors of  [-0.83916135 -0.84257965]  is  [[-0.75082858 -0.54497977]\n",
      " [-0.83916135 -0.84257965]\n",
      " [-0.78027283 -0.84257965]]\n",
      "Is  [-0.83916135 -0.84257965]  core: False\n",
      "neighbors of  [-0.78027283 -0.84257965]  is  [[-0.75082858 -0.54497977]\n",
      " [-0.456386   -0.84257965]\n",
      " [-0.83916135 -0.84257965]\n",
      " [-0.78027283 -0.84257965]]\n",
      "Is  [-0.78027283 -0.84257965]  core: False\n",
      "{'(-0.7802728348613551,-0.8425796462851401)', '(-0.7508285769420588,-0.5449797712175413)', '(-0.45638599774909466,-0.8425796462851401)', '(-0.45638599774909466,0.1990199164514553)', '(-0.839161350699948,-0.8425796462851401)'}\n"
     ]
    }
   ],
   "source": [
    "def density_reachable(x, D=X_scaled):\n",
    "    density_reachable_points = set()\n",
    "    for p in D:\n",
    "        for y in neighbors[x.tostring()]:\n",
    "            if directly_density_reachable(p,y):\n",
    "                p_str = \"(\" +str(p[0]) +\",\" + str(p[1]) + \")\"\n",
    "                density_reachable_points.add(p_str)\n",
    "    return density_reachable_points\n",
    "\n",
    "print(density_reachable(X_scaled[0]))\n",
    "\n",
    "    "
   ]
  },
  {
   "cell_type": "markdown",
   "id": "checked-briefs",
   "metadata": {},
   "source": [
    "\n",
    "B) <span style='color: green'>**\\[Describe\\]**</span> the difference between the clusters obtained with DBSCAN and those obtained with KMeans in Task 1.1.1?"
   ]
  },
  {
   "cell_type": "markdown",
   "id": "settled-programming",
   "metadata": {},
   "source": [
    "*******************\n",
    "**YOUR ANSWER HERE**\n",
    "******************"
   ]
  },
  {
   "cell_type": "markdown",
   "id": "spanish-fields",
   "metadata": {},
   "source": [
    "## Task 1.2 Elliptic data set (2 points)\n",
    "<span style='color: green'>**\\[Describe\\]**</span> <br> \n",
    "After looking at the dataset _below_, you want to detect the red outlier point, assuming you know that it is an outlier. \n",
    "\n",
    "Which approach would be the most obvious to find the red outlier? Please (1) check the box and (2) motivate your answer below:\n",
    "- [ ] Distance based approach (with parameteres $\\pi=0.5$, $\\epsilon=2$ and euclidean distance)\n",
    "- [ ] Angle based approach\n",
    "- [ ] Depth based approach"
   ]
  },
  {
   "cell_type": "code",
   "execution_count": 11,
   "id": "suspended-legend",
   "metadata": {},
   "outputs": [
    {
     "data": {
      "image/png": "[encoded data removed]",
      "text/plain": [
       "<Figure size 640x480 with 1 Axes>"
      ]
     },
     "metadata": {},
     "output_type": "display_data"
    }
   ],
   "source": [
    "D_new = np.array([[1.0, 2.0], # Red \n",
    "                [1., 1.0],\n",
    "                [0.5, 0.5],\n",
    "                [1, 0.5],\n",
    "                [0.5, 1],\n",
    "                [0.75, 0.75]\n",
    "                 ])\n",
    "\n",
    "plt.scatter(D_new[:, 0], D_new[:, 1], alpha=0.8, c = ['red' if i == 0 else 'blue' for i in range(len(D_new))])\n",
    "plt.axis([0, 2, 0,3])\n",
    "plt.show()"
   ]
  },
  {
   "cell_type": "markdown",
   "id": "removable-tuesday",
   "metadata": {},
   "source": [
    "*******************\n",
    "**YOUR ANSWER HERE**\n",
    "******************"
   ]
  },
  {
   "cell_type": "markdown",
   "id": "southeast-extraction",
   "metadata": {},
   "source": [
    "## Task 1.3 Theoretical questions (4 points)\n",
    "<span style='color: green'>**\\[Prove\\]**</span> \n",
    "\n",
    "1. You are given a measure $d(x,y) = |x-y|$, prove that the measure is a metric \n",
    "2. Prove that $\\hat{\\Sigma}=\n",
    "\\frac{1}{n}\\sum_{i=1}^n (x_i -\\hat{\\mu}^\\top)\\cdot(x_i -\\hat{\\mu}^\\top)^\\top=E[(X-\\hat{\\mu})(X-\\hat{\\mu})^\\top]$"
   ]
  },
  {
   "attachments": {},
   "cell_type": "markdown",
   "id": "single-column",
   "metadata": {},
   "source": [
    "*******************\n",
    "- 1 <br>\n",
    "    In order to prove that the distance function $d$ is a metric, we will argue for the positive semidefinite, definte, symmetry and triangle inequality properties. <br>\n",
    "    - Positive Semidefinite <br>\n",
    "        $dist(x,y) = | x - y | \\geq 0$, because of the definition of the absolute value. <br>\n",
    "    - Definte <br>\n",
    "        $dist(x,y) = 0 ⇔ x = y$, because of the Identity of indiscernibles property of the aboslute value. <br>\n",
    "    - Symmetry <br>\n",
    "        $dist(x,y) = | x - y | = | y - x | = dist(y,x)$, because of the\tevenness property of the aboslute value. <br>\n",
    "    - Triangle Inequality <br>\n",
    "        \n",
    "******************"
   ]
  },
  {
   "cell_type": "markdown",
   "id": "metropolitan-artwork",
   "metadata": {},
   "source": [
    "# Part 2 Exploratory data analysis\n",
    "In this section, you will perform preliminary analysis on your data. These preliminary analysis are useful to understand how the data behaves, before running complex algorithms.<br>\n",
    "\n",
    "This dataset is about red wine variants of the Portuguese \"Vinho Verde\" wine. It only contains physicochemical and sensory variables, so no prices, grape types and such. Every sample  has also a class of quality which has scores between 1 and 10. It has been used and published with [Cortez et al., 2009](http://dx.doi.org/10.1016/j.dss.2009.05.016)"
   ]
  },
  {
   "cell_type": "code",
   "execution_count": 12,
   "id": "guilty-vegetable",
   "metadata": {},
   "outputs": [
    {
     "data": {
      "text/html": [
       "<div>\n",
       "<style scoped>\n",
       "    .dataframe tbody tr th:only-of-type {\n",
       "        vertical-align: middle;\n",
       "    }\n",
       "\n",
       "    .dataframe tbody tr th {\n",
       "        vertical-align: top;\n",
       "    }\n",
       "\n",
       "    .dataframe thead th {\n",
       "        text-align: right;\n",
       "    }\n",
       "</style>\n",
       "<table border=\"1\" class=\"dataframe\">\n",
       "  <thead>\n",
       "    <tr style=\"text-align: right;\">\n",
       "      <th></th>\n",
       "      <th>fixed acidity</th>\n",
       "      <th>volatile acidity</th>\n",
       "      <th>citric acid</th>\n",
       "      <th>residual sugar</th>\n",
       "      <th>chlorides</th>\n",
       "      <th>free sulfur dioxide</th>\n",
       "      <th>total sulfur dioxide</th>\n",
       "      <th>density</th>\n",
       "      <th>pH</th>\n",
       "      <th>sulphates</th>\n",
       "      <th>alcohol</th>\n",
       "      <th>quality</th>\n",
       "    </tr>\n",
       "  </thead>\n",
       "  <tbody>\n",
       "    <tr>\n",
       "      <th>18</th>\n",
       "      <td>7.4</td>\n",
       "      <td>0.590</td>\n",
       "      <td>0.08</td>\n",
       "      <td>4.4</td>\n",
       "      <td>0.086</td>\n",
       "      <td>6.0</td>\n",
       "      <td>29.0</td>\n",
       "      <td>0.9974</td>\n",
       "      <td>3.38</td>\n",
       "      <td>0.50</td>\n",
       "      <td>9.0</td>\n",
       "      <td>4</td>\n",
       "    </tr>\n",
       "    <tr>\n",
       "      <th>38</th>\n",
       "      <td>5.7</td>\n",
       "      <td>1.130</td>\n",
       "      <td>0.09</td>\n",
       "      <td>1.5</td>\n",
       "      <td>0.172</td>\n",
       "      <td>7.0</td>\n",
       "      <td>19.0</td>\n",
       "      <td>0.9940</td>\n",
       "      <td>3.50</td>\n",
       "      <td>0.48</td>\n",
       "      <td>9.8</td>\n",
       "      <td>4</td>\n",
       "    </tr>\n",
       "    <tr>\n",
       "      <th>41</th>\n",
       "      <td>8.8</td>\n",
       "      <td>0.610</td>\n",
       "      <td>0.30</td>\n",
       "      <td>2.8</td>\n",
       "      <td>0.088</td>\n",
       "      <td>17.0</td>\n",
       "      <td>46.0</td>\n",
       "      <td>0.9976</td>\n",
       "      <td>3.26</td>\n",
       "      <td>0.51</td>\n",
       "      <td>9.3</td>\n",
       "      <td>4</td>\n",
       "    </tr>\n",
       "    <tr>\n",
       "      <th>45</th>\n",
       "      <td>4.6</td>\n",
       "      <td>0.520</td>\n",
       "      <td>0.15</td>\n",
       "      <td>2.1</td>\n",
       "      <td>0.054</td>\n",
       "      <td>8.0</td>\n",
       "      <td>65.0</td>\n",
       "      <td>0.9934</td>\n",
       "      <td>3.90</td>\n",
       "      <td>0.56</td>\n",
       "      <td>13.1</td>\n",
       "      <td>4</td>\n",
       "    </tr>\n",
       "    <tr>\n",
       "      <th>73</th>\n",
       "      <td>8.3</td>\n",
       "      <td>0.675</td>\n",
       "      <td>0.26</td>\n",
       "      <td>2.1</td>\n",
       "      <td>0.084</td>\n",
       "      <td>11.0</td>\n",
       "      <td>43.0</td>\n",
       "      <td>0.9976</td>\n",
       "      <td>3.31</td>\n",
       "      <td>0.53</td>\n",
       "      <td>9.2</td>\n",
       "      <td>4</td>\n",
       "    </tr>\n",
       "  </tbody>\n",
       "</table>\n",
       "</div>"
      ],
      "text/plain": [
       "    fixed acidity  volatile acidity  citric acid  residual sugar  chlorides  \\\n",
       "18            7.4             0.590         0.08             4.4      0.086   \n",
       "38            5.7             1.130         0.09             1.5      0.172   \n",
       "41            8.8             0.610         0.30             2.8      0.088   \n",
       "45            4.6             0.520         0.15             2.1      0.054   \n",
       "73            8.3             0.675         0.26             2.1      0.084   \n",
       "\n",
       "    free sulfur dioxide  total sulfur dioxide  density    pH  sulphates  \\\n",
       "18                  6.0                  29.0   0.9974  3.38       0.50   \n",
       "38                  7.0                  19.0   0.9940  3.50       0.48   \n",
       "41                 17.0                  46.0   0.9976  3.26       0.51   \n",
       "45                  8.0                  65.0   0.9934  3.90       0.56   \n",
       "73                 11.0                  43.0   0.9976  3.31       0.53   \n",
       "\n",
       "    alcohol  quality  \n",
       "18      9.0        4  \n",
       "38      9.8        4  \n",
       "41      9.3        4  \n",
       "45     13.1        4  \n",
       "73      9.2        4  "
      ]
     },
     "execution_count": 12,
     "metadata": {},
     "output_type": "execute_result"
    }
   ],
   "source": [
    "toy = wq[wq['quality'].isin([4, 8])]\n",
    "data_np = toy.to_numpy()\n",
    "headers = [\"fixed acidity\",\"volatile acidity\",\"citric acid\",\"residual sugar\",\"chlorides\",\"free sulfur dioxide\",\"total sulfur dioxide\",\"density\",\"pH\",\"sulphates\",\"alcohol\",\"quality\"]\n",
    "X = data_np[:,:10]\n",
    "y = data_np[:,11]\n",
    "y = y.astype(int) - 1\n",
    "rows, cols = np.shape(X)\n",
    "toy.head()"
   ]
  },
  {
   "cell_type": "markdown",
   "id": "passive-ottawa",
   "metadata": {},
   "source": [
    "## Task 2.1 Correlation matrix\n",
    "### Task 2.1.1 (5 points)\n",
    "A) <span style='color: green'>**\\[Implement\\]**</span> in the code-box below the **correlation matrix** (not covariance matrix) among all the attributes. <br>\n",
    "<font color='red'>To CHECK your results you can use **numpy.corrcoef**.</font>"
   ]
  },
  {
   "cell_type": "code",
   "execution_count": 13,
   "id": "occasional-seeking",
   "metadata": {},
   "outputs": [
    {
     "data": {
      "text/plain": [
       "<matplotlib.colorbar.Colorbar at 0x2aeffeafd30>"
      ]
     },
     "execution_count": 13,
     "metadata": {},
     "output_type": "execute_result"
    },
    {
     "data": {
      "image/png": "[encoded data removed]",
      "text/plain": [
       "<Figure size 480x480 with 2 Axes>"
      ]
     },
     "metadata": {},
     "output_type": "display_data"
    }
   ],
   "source": [
    "def correlation_matrix(X):\n",
    "    n, d = X.shape\n",
    "    corr = np.empty((n,n)) # (d,d)??\n",
    "    for i in range(n): # d?\n",
    "        my_1 = np.mean(X[i,:])\n",
    "        for j in range(n): #d?\n",
    "            my_2 = np.mean(X[j,:])\n",
    "\n",
    "            sigma_ij = (1 / (n - 1)) * np.sum((X[i,:] - my_1) * (X[j,:] - my_2))\n",
    "            sigma_i = (1 / (n - 1)) * np.sum((X[i,:] - my_1) * (X[i,:] - my_1))\n",
    "            sigma_j = (1 / (n - 1)) * np.sum((X[j,:] - my_2) * (X[j,:] - my_2))\n",
    "\n",
    "            corr[i,j] = sigma_ij / np.sqrt(sigma_i * sigma_j)\n",
    "\n",
    "    return corr\n",
    "    \n",
    "X = data_np\n",
    "Corr = correlation_matrix(X)\n",
    "plt.matshow(Corr)\n",
    "plt.colorbar()"
   ]
  },
  {
   "cell_type": "markdown",
   "id": "suburban-volume",
   "metadata": {},
   "source": [
    "<span style='color: green'>**\\[Motivate\\]**</span><br>\n",
    "B) By observing the  **correlation matrix** in point A), which pair of different attributes has the highest correlation? <br>"
   ]
  },
  {
   "attachments": {},
   "cell_type": "markdown",
   "id": "median-silver",
   "metadata": {},
   "source": [
    "MORE\n",
    "*******************\n",
    "Obviously, the diagonal of the correlation matrix has a correlation values of $1$, as a variable clearly is correlation with itself. <br>\n",
    "Generally speaking when observing the pairs with highest correlation, we must look for regions (in the above plot) that has hight values. \n",
    "******************"
   ]
  },
  {
   "attachments": {},
   "cell_type": "markdown",
   "id": "higher-senator",
   "metadata": {},
   "source": [
    "<span style='color: green'>**\\[Motivate\\]**</span><br>\n",
    "C) What does it mean that two attributs are highly correlated? <br>"
   ]
  },
  {
   "attachments": {},
   "cell_type": "markdown",
   "id": "creative-breath",
   "metadata": {},
   "source": [
    "*******************\n",
    "Generally speaking correlation (thereby also correlation matrix) is a measure for the correlation or dependence between two random variables. We consider this association as a degree in which the pair of variables are linearly dependent. <br>\n",
    "The correlation matrix is essentially just a normalized / standardized covariance matrix, where the covariance measures the joint variability of two random variables. Essentially the variables tend to show similar behavior. \n",
    "******************"
   ]
  },
  {
   "cell_type": "markdown",
   "id": "knowing-springfield",
   "metadata": {},
   "source": [
    "<span style='color: green'>**\\[Motivate\\]**</span><br>\n",
    "D) Based on the attributes of the data in Part 2 and your answer in C), did you expect the observation of B)? <br>"
   ]
  },
  {
   "cell_type": "markdown",
   "id": "configured-weekly",
   "metadata": {},
   "source": [
    "*******************\n",
    "**YOUR ANSWER HERE**\n",
    "******************"
   ]
  },
  {
   "attachments": {},
   "cell_type": "markdown",
   "id": "average-content",
   "metadata": {},
   "source": [
    "### Task 2.1.2 (1 points)\n",
    "<span style='color: green'>**\\[Motivate\\]**</span><br>\n",
    "\n",
    "Plot the correlation matrix running the code below.\n",
    "What is the relationship between the correlation matrix and the covariance matrix? (1) Check the correct box below and (2) motivate your answer.\n",
    "\n",
    "- [ ] The correlation matrix contains the unnormalized covariance values\n",
    "- [X] The correlation matrix contains the normalized covariance values\n",
    "- [ ] The covariance matrix contains the variance of the correlation"
   ]
  },
  {
   "cell_type": "code",
   "execution_count": 14,
   "id": "productive-newark",
   "metadata": {},
   "outputs": [
    {
     "data": {
      "image/png": "[encoded data removed]",
      "text/plain": [
       "<Figure size 640x480 with 2 Axes>"
      ]
     },
     "metadata": {},
     "output_type": "display_data"
    }
   ],
   "source": [
    "sns.heatmap(wq.corr(),annot=True,linewidths=.5, cmap=\"YlGnBu\", annot_kws={\"fontsize\":8}, vmax=1)\n",
    "plt.title('Correlation')\n",
    "plt.show()"
   ]
  },
  {
   "cell_type": "markdown",
   "id": "dimensional-behalf",
   "metadata": {},
   "source": [
    "*******************\n",
    "**YOUR ANSWER HERE**\n",
    "******************"
   ]
  },
  {
   "cell_type": "markdown",
   "id": "interior-shelter",
   "metadata": {},
   "source": [
    "### Task 2.1.3 (3 points)\n",
    "\n",
    "In this task, we reason about the covariance matrices.\n",
    "\n",
    "<span style='color: green'>**\\[Implement\\]**</span> code for normalizing the features of the wine dataset using (1) standard score normalization and (2) range normalization. Finally, (3) plot the **covariance** matrices for\n",
    "1. The unnormalized data\n",
    "2. The [standard score normalized features](https://en.wikipedia.org/wiki/Standard_score)\n",
    "3. The range (min-max) normalized features"
   ]
  },
  {
   "cell_type": "code",
   "execution_count": 15,
   "id": "broadband-reverse",
   "metadata": {},
   "outputs": [
    {
     "name": "stdout",
     "output_type": "stream",
     "text": [
      "The Unnormalied Data\n"
     ]
    },
    {
     "data": {
      "image/png": "[encoded data removed]",
      "text/plain": [
       "<Figure size 640x480 with 2 Axes>"
      ]
     },
     "metadata": {},
     "output_type": "display_data"
    },
    {
     "ename": "NameError",
     "evalue": "name 'sigma' is not defined",
     "output_type": "error",
     "traceback": [
      "\u001b[1;31m---------------------------------------------------------------------------\u001b[0m",
      "\u001b[1;31mNameError\u001b[0m                                 Traceback (most recent call last)",
      "Cell \u001b[1;32mIn[15], line 29\u001b[0m\n\u001b[0;32m     27\u001b[0m \u001b[39mfor\u001b[39;00m i \u001b[39min\u001b[39;00m \u001b[39mrange\u001b[39m(n):\n\u001b[0;32m     28\u001b[0m     \u001b[39mfor\u001b[39;00m j \u001b[39min\u001b[39;00m \u001b[39mrange\u001b[39m(d):\n\u001b[1;32m---> 29\u001b[0m         std_norm[i,j] \u001b[39m=\u001b[39m (X[i,j] \u001b[39m-\u001b[39m my[j]) \u001b[39m/\u001b[39m sigma[j]\n\u001b[0;32m     31\u001b[0m \u001b[39mprint\u001b[39m(\u001b[39m\"\u001b[39m\u001b[39mThe Standard Score Normalized Data\u001b[39m\u001b[39m\"\u001b[39m)\n\u001b[0;32m     32\u001b[0m Cov \u001b[39m=\u001b[39m covariance_matrix(std_norm)\n",
      "\u001b[1;31mNameError\u001b[0m: name 'sigma' is not defined"
     ]
    }
   ],
   "source": [
    "# Data\n",
    "X = data_np\n",
    "n, d = X.shape\n",
    "# YOUR CODE HERE\n",
    "\n",
    "\n",
    "def covariance_matrix(X):\n",
    "    cov = np.empty((n,n)) # (d,d)??\n",
    "    for i in range(n): # d?\n",
    "        my_1 = np.mean(X[i,:])\n",
    "        for j in range(n): #d?\n",
    "            my_2 = np.mean(X[j,:])\n",
    "            sigma_ij = (1 / (n - 1)) * np.sum((X[i,:] - my_1) * (X[j,:] - my_2))\n",
    "            cov[i,j] = sigma_ij\n",
    "    return cov\n",
    "    \n",
    "print(\"The Unnormalied Data\")\n",
    "Cov = covariance_matrix(X)\n",
    "sns.heatmap(Cov, annot=False, fmt='g')\n",
    "plt.show()\n",
    "\n",
    "\n",
    "my = np.mean(X, axis=0)\n",
    "#sigma = np.var(X, axis=0)\n",
    "\n",
    "std_norm = np.empty((n, d)) \n",
    "for i in range(n):\n",
    "    for j in range(d):\n",
    "        std_norm[i,j] = (X[i,j] - my[j]) / sigma[j]\n",
    "\n",
    "print(\"The Standard Score Normalized Data\")\n",
    "Cov = covariance_matrix(std_norm)\n",
    "sns.heatmap(Cov, annot=False, fmt='g')\n",
    "plt.show()\n",
    "\n",
    "\n",
    "\n",
    "range_max = np.max(X, axis=0)\n",
    "range_min = np.min(X, axis=0)\n",
    "\n",
    "range_norm = np.empty((n, d)) \n",
    "for i in range(n):\n",
    "    for j in range(d):\n",
    "        range_norm[i, j] = (X[i,j] - range_min[j]) / (range_max[j] - range_min[j])\n",
    "\n",
    "print(\"The Range Normalized Data\")\n",
    "Cov = covariance_matrix(range_norm)\n",
    "sns.heatmap(Cov, annot=False, fmt='g')\n",
    "plt.show()\n"
   ]
  },
  {
   "cell_type": "markdown",
   "id": "governmental-decision",
   "metadata": {},
   "source": [
    "### Task 2.1.4 (3 points)\n",
    "<span style='color: green'>**\\[Describe\\]**</span> how the covariance matrix changes with different normalization schemes and reason on why such behaviour appears.\n",
    "You should notice some differences. (1) Check the correct box below and (2) motivate your answer.\n",
    "\n",
    "\n",
    "\n",
    "- [ ] Range normalization preserves the variance. Therefore, features are directly comparable.\n",
    "- [ ] Standard score normalization preserves the variance. Therefore, features are directly comparable.\n",
    "- [ ] Both methods normalize in such a way, that it makes sense to compare the different covariance values to each other.\n",
    "- [ ] None of the methods normalize in such a way that it makes sense to compare the different covariance values to each other.\n",
    "\n",
    "<font color='red'>IMPORTANT: Do NOT just choose one answer. Please clarify WHY this is the correct answer.</font>"
   ]
  },
  {
   "cell_type": "markdown",
   "id": "representative-adapter",
   "metadata": {},
   "source": [
    "*******************\n",
    "**YOUR ANSWER HERE**\n",
    "******************"
   ]
  },
  {
   "cell_type": "markdown",
   "id": "pleased-entry",
   "metadata": {},
   "source": [
    "## Task 2.2 Normal distribution\n",
    "### Task 2.2.1 (6 points)\n",
    "Sometimes it is convenient to know whether a variable is close to a normal distribution.\n",
    "\n",
    "<span style='color: green'>**\\[Implement\\]**</span> a method norm_dist that: <br>\n",
    "    \n",
    "1) **Inputs**: \n",
    "    * the number of buckets $b$ \n",
    "    * a vector $x$ of values \n",
    "2) First, compute the histogram of a Gaussian variable with mean $\\mu$ corresponding to the sample mean of $x$ and $\\sigma^2$ corresponding to the sample variance of $x$. Second, calculate the histogram of $x$ using $b$ buckets. \n",
    "3) **Output**: the sum of the absolute differences of the buckets between the two histograms computed in 2). The sum of the differences is computed as \n",
    "$$\\sum_{i=1}^b |H_X(i) - H_{\\mathcal{N}}(i)|$$ \n",
    "where $H_X(i)$ is the i-th bucket of the histogram of $x$ and $H_\\mathcal{N}(i)$ is the i-th bucket of the hisotgram obtained from the normal distribution $\\mathcal{N}(\\mu,\\sigma^2)$. \n",
    "\n",
    "<font color='red'>IMPORTANT: You can use the norm function from Scipy to get the normal distribution to subtract from.</font>"
   ]
  },
  {
   "cell_type": "code",
   "execution_count": null,
   "id": "willing-bobby",
   "metadata": {},
   "outputs": [],
   "source": [
    "from scipy.stats import norm\n",
    "\n",
    "## Our data comes from the variable X\n",
    "X = data_np\n",
    "def norm_dist(x, b): \n",
    "    dist = 0\n",
    "    ### YOUR CODE HERE\n",
    "    \n",
    "    \n",
    "    ### YOUR CODE HERE\n",
    "    return dist"
   ]
  },
  {
   "cell_type": "markdown",
   "id": "coated-mission",
   "metadata": {},
   "source": [
    "### Task 2.2.2 (6 point)\n",
    "A) <span style='color: green'>**\\[Motivate\\]**</span> which drawbacks the method in Task 2.2.1 has. "
   ]
  },
  {
   "cell_type": "markdown",
   "id": "afraid-sharp",
   "metadata": {},
   "source": [
    "*******************\n",
    "**YOUR ANSWER HERE**\n",
    "******************"
   ]
  },
  {
   "cell_type": "markdown",
   "id": "integrated-blowing",
   "metadata": {},
   "source": [
    "B) <span style='color: green'>**\\[Motivate\\]**</span> whether the method in Task 2.2.1  is robust to outliers. "
   ]
  },
  {
   "cell_type": "markdown",
   "id": "worldwide-blade",
   "metadata": {},
   "source": [
    "*******************\n",
    "**YOUR ANSWER HERE**\n",
    "******************"
   ]
  },
  {
   "cell_type": "markdown",
   "id": "quarterly-crown",
   "metadata": {},
   "source": [
    "<span style='color: green'>**\\[Implement\\]**</span><br>\n",
    "C) Run your code on each columns of the dataset. "
   ]
  },
  {
   "cell_type": "code",
   "execution_count": null,
   "id": "governing-ceramic",
   "metadata": {},
   "outputs": [],
   "source": [
    "# YOUR CODE HERE\n",
    "\n",
    "\n",
    "\n",
    "# YOUR CODE HERE"
   ]
  },
  {
   "cell_type": "markdown",
   "id": "competent-female",
   "metadata": {},
   "source": [
    "<span style='color: green'>**\\[Motivate\\]**</span><br>\n",
    "D) What is the column with the largest distance? "
   ]
  },
  {
   "cell_type": "markdown",
   "id": "useful-workplace",
   "metadata": {},
   "source": [
    "*******************\n",
    "**YOUR ANSWER HERE**\n",
    "******************"
   ]
  },
  {
   "cell_type": "markdown",
   "id": "directed-delay",
   "metadata": {},
   "source": [
    "<span style='color: green'>**\\[Motivate\\]**</span><br>\n",
    "E) Do the attribute features follow a normal distribution?"
   ]
  },
  {
   "cell_type": "markdown",
   "id": "instant-match",
   "metadata": {},
   "source": [
    "*******************\n",
    "**YOUR ANSWER HERE**\n",
    "******************"
   ]
  },
  {
   "cell_type": "markdown",
   "id": "increased-cyprus",
   "metadata": {},
   "source": [
    "### Task 2.2.3 (1 points)\n",
    "\n",
    "Now look at the method below. This is called a Quantile-Quantile [Q-Q plot](https://en.wikipedia.org/wiki/Q%E2%80%93Q_plot). \n",
    "\n",
    "<span style='color: green'>**\\[Describe\\]**</span> why this method is more robust than the one we proposed in Task 2.2.1."
   ]
  },
  {
   "cell_type": "code",
   "execution_count": null,
   "id": "environmental-battery",
   "metadata": {
    "tags": []
   },
   "outputs": [],
   "source": [
    "from scipy import stats\n",
    "from matplotlib import gridspec\n",
    "\n",
    "plt.tight_layout()\n",
    "_, n = X.shape\n",
    "\n",
    "fig = plt.figure(constrained_layout=True, figsize=(8, 30))\n",
    "spec = gridspec.GridSpec(ncols=2, nrows=(n-1), figure=fig)\n",
    "for i in np.arange(3,n): \n",
    "    x = toy[headers[i]]\n",
    "    r = i-1\n",
    "    qq = fig.add_subplot(spec[r, 1]) \n",
    "    stats.probplot(x, plot=qq)\n",
    "    h = fig.add_subplot(spec[r, 0])\n",
    "    h.set_title(headers[i])\n",
    "    h.hist(x, bins = 30)"
   ]
  },
  {
   "cell_type": "markdown",
   "id": "flush-harbor",
   "metadata": {},
   "source": [
    "*******************\n",
    "**YOUR ANSWER HERE**\n",
    "******************"
   ]
  },
  {
   "attachments": {},
   "cell_type": "markdown",
   "id": "collaborative-kinase",
   "metadata": {},
   "source": [
    "# Part 3 Cluster Analysis\n",
    "In this section, you will perform cluster analysis of the dataset in Part 2 and modify clustering algorithms to achieve better results. \n",
    "\n",
    "## Task 3.1\n",
    "\n",
    "### Task 3.1.1 (6 points)\n",
    "A)  <span style='color: green'>**\\[Implement\\]**</span> and plot the **silhouette coefficient** to detect the number of clusters $k$. \n",
    "\n",
    "Use the \"sulphates\" and \"alcohol\" features of the data set."
   ]
  },
  {
   "cell_type": "code",
   "execution_count": 144,
   "id": "unknown-renaissance",
   "metadata": {},
   "outputs": [],
   "source": [
    "# Data\n",
    "X = toy[[\"sulphates\", \"alcohol\"]].to_numpy()\n",
    "### YOUR CODE HERE\n",
    "\n",
    "\n",
    "### YOUR CODE HERE"
   ]
  },
  {
   "cell_type": "markdown",
   "id": "passive-bubble",
   "metadata": {},
   "source": [
    "B) <span style='color: green'>**\\[Motivate\\]**</span> your choice of clusters $k$."
   ]
  },
  {
   "cell_type": "markdown",
   "id": "traditional-pharmacy",
   "metadata": {},
   "source": [
    "*******************\n",
    "**YOUR ANSWER HERE**\n",
    "******************"
   ]
  },
  {
   "cell_type": "markdown",
   "id": "illegal-mortgage",
   "metadata": {},
   "source": [
    "### Task 3.1.2 (1 points)\n",
    "\n",
    "<span style='color: green'>**\\[Implement\\]**</span><br>\n",
    "Run k-means on the dataset X, with the number of clusters detected in the previous exercise.\n",
    "\n",
    "<font color='red'>IMPORTANT: You can use the KMeans implementation from scikit-learn.</font> <br>"
   ]
  },
  {
   "cell_type": "code",
   "execution_count": null,
   "id": "approved-shoot",
   "metadata": {},
   "outputs": [],
   "source": [
    "# Data\n",
    "X = toy[[\"sulphates\", \"alcohol\"]].to_numpy()\n",
    "# Necessary Data normalization!\n",
    "X_norm = (X - X.min(0)) / X.ptp(0)\n",
    "\n",
    "\n",
    "### YOUR CODE HERE\n",
    "\n",
    "\n",
    "clusters = []\n",
    "\n",
    "plt.scatter(X_norm[:, 0], X_norm[:, 1], alpha=0.8, c=clusters)"
   ]
  },
  {
   "cell_type": "markdown",
   "id": "adequate-power",
   "metadata": {},
   "source": [
    "### Task 3.1.3 (6 points)\n",
    "<span style='color: green'>**\\[Implement\\]**</span><br> Kernel K-means and the Gaussian Kernel. \n",
    "\n",
    "The Gaussian kernel is defined as in the following equation:\n",
    "\n",
    "$$\n",
    "K\\left(\\mathbf{x}_{i}, \\mathbf{x}_{j}\\right)=\\exp \\left(-\\frac{\\left\\|\\mathbf{x}_{i}-\\mathbf{x}_{j}\\right\\|^{2}}{2 \\sigma^{2}}\\right)$$ \n"
   ]
  },
  {
   "cell_type": "code",
   "execution_count": null,
   "id": "previous-glasgow",
   "metadata": {},
   "outputs": [],
   "source": [
    "### YOUR CODE HERE\n",
    "X = toy[[\"sulphates\", \"alcohol\"]].to_numpy()\n",
    "\n",
    "# Necessary Data normalization!\n",
    "X_norm = (X - X.min(0)) / X.ptp(0)\n",
    "\n",
    "def gaussian_kernel(x, y, sigma=0.8): \n",
    "    k = 0 \n",
    "    ### YOUR CODE HERE\n",
    "\n",
    "\n",
    "    ### YOUR CODE HERE\n",
    "    return k\n",
    "\n",
    "\n",
    "def kernel_kmeans(X, n_clusters, kernel=gaussian_kernel, iters=100, error=.01): \n",
    "    ### YOUR CODE HERE\n",
    "\n",
    "\n",
    "    ### YOUR CODE HERE\n",
    "    return clusters\n",
    "\n",
    "\n",
    "clusters = kernel_kmeans(X_norm, NUMBER_OF_CLUSTERS)\n",
    "\n",
    "scaler = StandardScaler().fit(X_norm)\n",
    "X_scaled = scaler.transform(X_norm)\n",
    "clusters = kernel_kmeans(X_scaled, SOME_AMOUNT_OF_CLUSTERS)\n",
    "\n",
    "plt.scatter(X_scaled[:, 0], X_scaled[:, 1], alpha=0.8, c=clusters)"
   ]
  },
  {
   "attachments": {},
   "cell_type": "markdown",
   "id": "transparent-junction",
   "metadata": {},
   "source": [
    "\n",
    "## Task 3.2 Clustering quality\n",
    "\n",
    "### Task 3.2.1 (6 points)\n",
    "<span style='color: green'>**\\[Implement\\]**</span> **Conditional Entropy (CE)** as a measure for clustering quality.\n",
    "\n",
    "Entropy for a clustering is $H(C) = - \\sum_{i=1}^{k}{p_{C_i} \\log {p_{C_i}}}$.\n",
    "\n",
    "The **Conditional Entropy** of $C$ **given** $T$ is given by: \n",
    "$$\\text{CE}(C|T)=-\\sum\\limits^{|C|}_{i=1}\\sum\\limits^{|T|}_{j=1}\\frac{n_{ij}}{n_i}\\log\\frac{n_{ij}}{n_i}$$\n",
    "where $n_{i}$ is the total number of points in cluster $C_i$ and $n_{ij}$ is the number of common points between clusters $C_i$ and $T_j$\n",
    "\n",
    "\n",
    "**Hint**: First implement **Entropy** and then **Conditional Entropy**."
   ]
  },
  {
   "cell_type": "code",
   "execution_count": null,
   "id": "opposed-research",
   "metadata": {},
   "outputs": [],
   "source": [
    "def entropy(C):\n",
    "    # Let C be a list of clusters\n",
    "    entropy = 0\n",
    "    ### YOUR CODE HERE\n",
    "    \n",
    "    \n",
    "    ### YOUR CODE HERE\n",
    "    return entropy\n",
    "\n",
    "\n",
    "def CE(C1, C2):\n",
    "    ce = 0\n",
    "    ### YOUR CODE HERE\n",
    "    \n",
    "    \n",
    "    ### YOUR CODE HERE\n",
    "    return ce\n",
    "\n",
    "    \n",
    "\n",
    "X = toy[[\"sulphates\", \"alcohol\"]].to_numpy()\n",
    "\n",
    "# Necessary Data normalization!\n",
    "X_norm = (X - X.min(0)) / X.ptp(0)"
   ]
  },
  {
   "cell_type": "markdown",
   "id": "sized-opportunity",
   "metadata": {},
   "source": [
    "### Task 3.2.2 (3 points)\n",
    "<span style='color: green'>**\\[Implement\\]**</span>\n",
    "Plot the Conditional Entropy (implementation from the Task 3.2.1) among the class labels $y$ and the clusters you found with k-means in Task 3.1.1. \n",
    "Make sure that the number of clusters and the number of class labels is the same.<br>"
   ]
  },
  {
   "cell_type": "code",
   "execution_count": null,
   "id": "criminal-pitch",
   "metadata": {
    "pycharm": {
     "name": "#%%\n"
    }
   },
   "outputs": [],
   "source": [
    "###YOUR CODE HERE\n",
    "\n",
    "\n",
    "###YOUR CODE HERE\n",
    "class_labels = np.array(toy[\"quality\"])\n",
    "class_labels = [1 if x == 8 else 0 for x in class_labels]"
   ]
  },
  {
   "cell_type": "markdown",
   "id": "facial-soundtrack",
   "metadata": {},
   "source": [
    "<span style='color: green'>**\\[Motivate\\]**</span><br>\n",
    "A) Reason about the measure, is the measure influenced by the size of the clusters?  "
   ]
  },
  {
   "cell_type": "markdown",
   "id": "southern-convert",
   "metadata": {},
   "source": [
    "******************* \n",
    "**YOUR ANSWER HERE**\n",
    "******************"
   ]
  },
  {
   "cell_type": "markdown",
   "id": "informational-police",
   "metadata": {},
   "source": [
    "<span style='color: green'>**\\[Describe\\]**</span><br>\n",
    "B) What does the measure capture? "
   ]
  },
  {
   "cell_type": "markdown",
   "id": "understanding-settle",
   "metadata": {},
   "source": [
    "*******************\n",
    "**YOUR ANSWER HERE**\n",
    "******************"
   ]
  },
  {
   "cell_type": "markdown",
   "id": "delayed-subject",
   "metadata": {
    "pycharm": {
     "name": "#%% md\n"
    }
   },
   "source": [
    "### Task 3.2.3 (4 points)\n",
    "<span style='color: green'>**\\[Implement\\]**</span><br>\n",
    "Provide an implementation of purity. Recall that purity is the weighted sum of the individual $purity_i = \\frac{1}{|C_i|} \\max_{j=1..k}\\{n_{ij}\\}$ values where $n_{ij}$ is the number of common points in cluster $C_i$\n",
    "and ground-truth cluster $j$ obtained from the labels $y$."
   ]
  },
  {
   "cell_type": "code",
   "execution_count": null,
   "id": "surrounded-consciousness",
   "metadata": {},
   "outputs": [],
   "source": [
    "### YOUR CODE HERE\n",
    "T = np.array([]) # Ground-truth clusters\n",
    "C = np.array([]) # Clusters obtained by k-means\n",
    "### YOUR CODE HERE\n",
    "\n",
    "## C is the clustering from k-means and T is the ground truth cluster assignments.\n",
    "def purity(C, T):\n",
    "    purity = 0\n",
    "    ### YOUR CODE HERE\n",
    "\n",
    "\n",
    "    ### YOUR CODE HERE\n",
    "    return purity\n",
    "\n",
    "print('Purity: {}, CE: {}'.format(purity(C,T), CE(C,T)))"
   ]
  },
  {
   "cell_type": "markdown",
   "id": "phantom-reform",
   "metadata": {
    "pycharm": {
     "name": "#%% md\n"
    }
   },
   "source": [
    "### Task 3.2.4 (2 points)\n",
    "A) <span style='color: green'>**\\[Implement\\]**</span><br>\n",
    "\n",
    "Plot the purity of the clusters obtained by k-means in Task 3.1.1. \n"
   ]
  },
  {
   "cell_type": "code",
   "execution_count": null,
   "id": "civilian-details",
   "metadata": {},
   "outputs": [],
   "source": [
    "### YOUR CODE HERE\n",
    "\n",
    "\n",
    "### YOUR CODE HERE"
   ]
  },
  {
   "cell_type": "markdown",
   "id": "modified-sector",
   "metadata": {},
   "source": [
    "B) <span style='color: green'>**\\[Motivate\\]**</span><br>\n",
    "\n",
    "Compare purity with **Conditional Entropy (CE)**. Which measure is preferable? (1) Check the correct box below and (2) motivate your answer.\n",
    "\n",
    "- [ ] **CE** is preferable because it uses all the points\n",
    "- [ ] Purity is preferable because it is less computational demanding\n",
    "- [ ] **CE** is preferrable because it does not favor small clusters\n",
    "- [ ] Purity is preferrable because it tends to favor balanced clusters."
   ]
  },
  {
   "cell_type": "markdown",
   "id": "accepted-influence",
   "metadata": {},
   "source": [
    "*******************\n",
    "**YOUR ANSWER HERE**\n",
    "******************"
   ]
  },
  {
   "attachments": {},
   "cell_type": "markdown",
   "id": "generic-state",
   "metadata": {},
   "source": [
    "### Task 3.3 OPTICS\n",
    "\n",
    "### Task 3.3.1 (7 point)\n",
    "<span style='color: green'>**\\[Implement\\]**</span> the OPTICS algorithm\n",
    "\n",
    "If you do not remember [OPTICS](https://en.wikipedia.org/wiki/OPTICS_algorithm), check the slides or the lecture notes. "
   ]
  },
  {
   "cell_type": "code",
   "execution_count": null,
   "id": "sensitive-weekly",
   "metadata": {},
   "outputs": [],
   "source": [
    "def rdist(x,y,eps,min_samples):\n",
    "    ### YOUR CODE HERE\n",
    "\n",
    "\n",
    "    ### YOUR CODE HERE\n",
    "    return rdis\n",
    "\n",
    "def optics(X, eps, min_samples): \n",
    "    ### YOUR CODE HERE\n",
    "\n",
    "\n",
    "    ### YOUR CODE HERE\n",
    "    return clusters"
   ]
  },
  {
   "cell_type": "markdown",
   "id": "political-wireless",
   "metadata": {},
   "source": [
    "### Task 3.3.2 (1 points)\n",
    "\n",
    "<span style='color: green'>**\\[Implement\\]**</span><br>\n",
    "A) Run OPTICS with parameters $\\varepsilon=0.07, minPts=3$. <br> "
   ]
  },
  {
   "cell_type": "code",
   "execution_count": null,
   "id": "japanese-topic",
   "metadata": {},
   "outputs": [],
   "source": [
    "### YOUR CODE HERE\n",
    "\n",
    "\n",
    "### YOUR CODE HERE"
   ]
  },
  {
   "cell_type": "markdown",
   "id": "imposed-forge",
   "metadata": {},
   "source": [
    "B) <span style='color: green'>**\\[Motivate\\]**</span><br>\n",
    "\n",
    "Compare the results of OPTICS with those of k-means. Which of the two methods two achieve a better **CE**? "
   ]
  },
  {
   "cell_type": "markdown",
   "id": "decimal-candle",
   "metadata": {},
   "source": [
    "*******************\n",
    "**YOUR ANSWER HERE**\n",
    "******************"
   ]
  },
  {
   "attachments": {},
   "cell_type": "markdown",
   "id": "prostate-residence",
   "metadata": {},
   "source": [
    "### Task 3.3.3 (6 points)\n",
    "<span style='color: green'>**\\[Implement\\]**</span> a simple subspace clustering algorithm.\n",
    "1. Take all subsets of 2,3 attributes. Beware that you should only use the numerical attributes.\n",
    "2. Run OPTICS on each subset. \n",
    "3. Compute **CE** for each subset. \n",
    "4. Keep the k subsets with the largest **CE**. \n",
    "    \n",
    "<font color='red'>IMPORTANT: You may have to experiment a lot with eps and MinPts to get reasonable clusters. You are allowed to use **itertools** library to iterate over all subsets of size 2 and 3.</font>"
   ]
  },
  {
   "cell_type": "code",
   "execution_count": null,
   "id": "absent-anderson",
   "metadata": {},
   "outputs": [],
   "source": [
    "# Necessary Data normalization!\n",
    "X_pt = toy.to_numpy()\n",
    "X_norm_pt = (X_pt - X_pt.min(0)) / X_pt.ptp(0) \n",
    "\n",
    "### YOUR CODE HERE\n",
    "\n",
    "\n",
    "\n",
    "\n",
    "### YOUR CODE HERE"
   ]
  },
  {
   "cell_type": "markdown",
   "id": "published-culture",
   "metadata": {},
   "source": [
    "# Part 4 Outlier detection\n",
    "In this exercise we will work with outlier detection techniques and analyze their performance on the small dataset. Before starting the exercise, run the code below. \n"
   ]
  },
  {
   "cell_type": "code",
   "execution_count": null,
   "id": "explicit-isolation",
   "metadata": {},
   "outputs": [],
   "source": [
    "X_small = toy[[\"sulphates\", \"alcohol\"]].to_numpy()\n",
    "\n",
    "X_norm = (X_small - X_small.min(0)) / X_small.ptp(0)"
   ]
  },
  {
   "cell_type": "markdown",
   "id": "royal-mumbai",
   "metadata": {},
   "source": [
    "## Task 4.1 (DBoutliers)\n",
    "We will now compare two outlier detection techniques.\n",
    "### Task 4.1.1 (6 points)\n",
    "<span style='color: green'>**\\[Implement\\]**</span> a simple distance-based outlier detector. This is the distance-based outlier detection from the lectures, where a point is considered an outlier if at most a fraction $pi$ of the other points have a distance less of than $eps$ to it."
   ]
  },
  {
   "cell_type": "code",
   "execution_count": null,
   "id": "grave-ownership",
   "metadata": {},
   "outputs": [],
   "source": [
    "def DBOutliers(X, eps, pi): \n",
    "    outliers = None\n",
    "    ### YOUR STARTS CODE HERE\n",
    "    \n",
    "    \n",
    "    ### YOUR CODE ENDS HERE\n",
    "    return outliers"
   ]
  },
  {
   "cell_type": "markdown",
   "id": "relative-somewhere",
   "metadata": {},
   "source": [
    "### Task 4.1.2 (2 points)\n",
    "A) <span style='color: green'>**\\[Implement\\]**</span>\n",
    "DBOutliers requires tuning the parameters eps, pi. Run the code from Task 4.1.1 with different choices of eps, pi \n",
    "\n",
    "**Note** that the data is normalized. Choose two ranges with **at least** 4 values each.  "
   ]
  },
  {
   "cell_type": "code",
   "execution_count": null,
   "id": "hollywood-permission",
   "metadata": {},
   "outputs": [],
   "source": [
    "### YOUR CODE HERE\n",
    "\n",
    "### YOUR CODE HERE"
   ]
  },
  {
   "cell_type": "markdown",
   "id": "developmental-simulation",
   "metadata": {},
   "source": [
    "B) <span style='color: green'>**\\[Motivate\\]**</span><br>\n",
    "\n",
    "**Present** the results  and **discuss** how the results vary with respect to (1) eps and (2) pi."
   ]
  },
  {
   "cell_type": "markdown",
   "id": "satellite-stanford",
   "metadata": {},
   "source": [
    "*******************\n",
    "**YOUR ANSWER HERE**\n",
    "******************"
   ]
  },
  {
   "cell_type": "markdown",
   "id": "spoken-reset",
   "metadata": {},
   "source": [
    "### Task 4.1.3 (3 points)\n",
    "**NOTE** This is hard but also fun. Since it is not impacting the grade too much, you can choose to invent something new.\n",
    "\n",
    "A) Propose and <span style='color: green'>**\\[Implement\\]**</span> a heuristic method to tune parameters eps, pi. "
   ]
  },
  {
   "cell_type": "code",
   "execution_count": null,
   "id": "express-racing",
   "metadata": {},
   "outputs": [],
   "source": [
    "def tune_dboutliers(X): \n",
    "    eps = 0\n",
    "    pi = 0\n",
    "    ### YOUR STARTS CODE HERE\n",
    "    \n",
    "    \n",
    "    ### YOUR ENDS CODE HERE\n",
    "    return eps, pi"
   ]
  },
  {
   "cell_type": "markdown",
   "id": "vulnerable-threshold",
   "metadata": {},
   "source": [
    "B) <span style='color: green'>**\\[Describe\\]**</span> your algorithm, its main idea, its strengths and its weaknesses"
   ]
  },
  {
   "cell_type": "markdown",
   "id": "laden-progressive",
   "metadata": {},
   "source": [
    "*******************\n",
    "**YOUR ANSWER HERE**\n",
    "******************"
   ]
  },
  {
   "cell_type": "markdown",
   "id": "derived-hanging",
   "metadata": {},
   "source": [
    "## Task 4.2 LOF (2 points)\n",
    "<span style='color: green'>**\\[Describe\\]**</span><br>\n",
    "Using the parameters eps=0.18, pi=0.2 compare the results of DBOutliers with those obtained by LOF implemented in Week 9. What outliers do you find?"
   ]
  },
  {
   "cell_type": "code",
   "execution_count": null,
   "id": "electric-blackjack",
   "metadata": {},
   "outputs": [],
   "source": [
    "### YOUR CODE HERE"
   ]
  },
  {
   "cell_type": "markdown",
   "id": "bigger-faith",
   "metadata": {},
   "source": [
    "*******************\n",
    "**YOUR ANSWER HERE**\n",
    "******************"
   ]
  }
 ],
 "metadata": {
  "kernelspec": {
   "display_name": "dm23",
   "language": "python",
   "name": "python3"
  },
  "language_info": {
   "codemirror_mode": {
    "name": "ipython",
    "version": 3
   },
   "file_extension": ".py",
   "mimetype": "text/x-python",
   "name": "python",
   "nbconvert_exporter": "python",
   "pygments_lexer": "ipython3",
   "version": "3.10.7"
  },
  "vscode": {
   "interpreter": {
    "hash": "70462cd43de24d1417aba47e8d8c6bf3895a856d5849b23f18f4202eece5e4b1"
   }
  }
 },
 "nbformat": 4,
 "nbformat_minor": 5
}
