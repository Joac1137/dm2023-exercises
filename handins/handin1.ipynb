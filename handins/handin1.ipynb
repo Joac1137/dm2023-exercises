{
 "cells": [
  {
   "attachments": {},
   "cell_type": "markdown",
   "id": "overall-spider",
   "metadata": {},
   "source": [
    "# Data Mining - Handin 1 - Clustering \n",
    "Welcome to the handin on clustering algorithms and outlier detection. \n",
    "This handin corresponds to the topics in Week 5--9 in the course.\n",
    "\n",
    "The handin is \n",
    "* done in the chosen handin groups\n",
    "* worth 10% of the final grade\n",
    "\n",
    "For the handin, you will prepare a report in PDF format, by exporting the Jupyter notebook. \n",
    "Please submit\n",
    "1. The jupyter notebook file with your answers\n",
    "2. The PDF obtained by exporting the jupyter notebook\n",
    "\n",
    "Submit both files on Brightspace no later than **March 10th kl. 23:59**.\n",
    "\n",
    "**The grading system**: Tasks are assigned a number of points based on the difficulty and time to solve it. The sum of\n",
    "the number of points is 100. For the maximum grade you need to get at least _80 points_. The minimum grade (02 in the Danish scale)\n",
    "requires **at least** 30 points, with at least 8 points on of the first three Parts (Part 1,2,3) and 6 points in the last part (Part 4).\n",
    "\n",
    "**The exercise types**: There are three different types of exercises\n",
    "1. <span style='color: green'>**\\[Compute by hand\\]**</span> means that you should provide NO code, but show the main steps to reach the result (not all). \n",
    "2. <span style='color: green'>**\\[Motivate\\]**</span> means to provide a short answer of 1-2 lines indicating the main reasoning, e.g., the PageRank of a complete graph is 1/n in all nodes as all nodes are symmetric and are connected one another.\n",
    "3. <span style='color: green'>**\\[Describe\\]**</span> means to provide a potentially longer answer of 1-5 lines indicating the analysis of the data and the results. \n",
    "4. <span style='color: green'>**\\[Prove\\]**</span> means to provide a formal argument and NO code. \n",
    "5. <span style='color: green'>**\\[Implement\\]**</span> means to provide an implementation. Unless otherwise specified, you are allowed to use helper functions (e.g., ```np.mean```, ```itertools.combinations```, and so on). However, if the task is to implement an algorithm, by no means a call to a library that implements the same algorithm will be deemed as sufficient! \n",
    "\n",
    "<font color='red'>**!!! IMPORTANT: YOU ARE NOT ALLOWED TO USE LIBRARY FUNCTIONS (SCIPY, NUMPY etc.) UNLESS EXPLICITY MENTIONED !!!**\n",
    "</font>\n",
    "\n",
    "Good luck!"
   ]
  },
  {
   "cell_type": "code",
   "execution_count": 1,
   "id": "decimal-cause",
   "metadata": {},
   "outputs": [],
   "source": [
    "import sys\n",
    "#!conda install --yes --prefix {sys.prefix} seaborn"
   ]
  },
  {
   "cell_type": "code",
   "execution_count": 2,
   "id": "loaded-nicholas",
   "metadata": {},
   "outputs": [],
   "source": [
    "## DO NOT TOUCH\n",
    "import numpy as np\n",
    "import pandas as pd\n",
    "import warnings\n",
    "from sklearn.decomposition import PCA\n",
    "from sklearn.manifold import TSNE\n",
    "from sklearn.cluster import KMeans, DBSCAN, OPTICS\n",
    "from sklearn.preprocessing import StandardScaler, KBinsDiscretizer\n",
    "import time\n",
    "import seaborn as sns\n",
    "\n",
    "RANDOM_SEED = 132414\n",
    "## DO NOT TOUCH\n",
    "warnings.filterwarnings('ignore')\n",
    "%matplotlib inline\n",
    "import matplotlib.pyplot as plt\n",
    "\n",
    "wq = pd.read_csv(\"./data/winequality-red.csv\", sep=';')\n",
    "toy = wq[wq['quality'].isin([4, 8])].sample(n=20, random_state=RANDOM_SEED)"
   ]
  },
  {
   "cell_type": "markdown",
   "id": "reduced-regression",
   "metadata": {},
   "source": [
    "# Intro Excercises\n",
    "\n",
    "## Task 1.1 K-Means and DBScan\n",
    "\n",
    "### Task 1.1.1 (5 points)\n",
    "<span style='color: green'>**\\[Compute by hand\\]**</span> the cluster assignments _for the dataset below_ using k-means and $k = 2$, with initial centroids being (0, 0) and (1,1)\n",
    "\n",
    "<font color='red'>To evaluate (i.e., only to control the correctness and not to solve the exercise) your results you can use **sklearn.cluster.KMeans**.</font>\n"
   ]
  },
  {
   "cell_type": "code",
   "execution_count": 3,
   "id": "annoying-mapping",
   "metadata": {},
   "outputs": [
    {
     "data": {
      "image/png": "[encoded data removed]",
      "text/plain": [
       "<Figure size 640x480 with 1 Axes>"
      ]
     },
     "metadata": {},
     "output_type": "display_data"
    }
   ],
   "source": [
    "color_map = {4:'Blue', 8:'Red'}\n",
    "X_kmeans = toy[[\"sulphates\", \"alcohol\"]]\n",
    "\n",
    "scaler = StandardScaler().fit(X_kmeans)\n",
    "X_scaled = scaler.transform(X_kmeans)\n",
    "\n",
    "plt.scatter(X_scaled[:, 0], X_scaled[:, 1], alpha=0.8, c=toy['quality'].map(color_map))\n",
    "plt.axis('equal');"
   ]
  },
  {
   "cell_type": "code",
   "execution_count": 4,
   "id": "374bec01",
   "metadata": {},
   "outputs": [
    {
     "name": "stdout",
     "output_type": "stream",
     "text": [
      "[[ 0.09502465 -0.78508876]\n",
      " [-0.11614124  0.95955293]]\n"
     ]
    },
    {
     "data": {
      "image/png": "[encoded data removed]",
      "text/plain": [
       "<Figure size 640x480 with 1 Axes>"
      ]
     },
     "metadata": {},
     "output_type": "display_data"
    }
   ],
   "source": [
    "kmeans = KMeans(2,random_state=0, n_init=\"auto\").fit(X_scaled)\n",
    "label = kmeans.labels_\n",
    "u_labels = np.unique(label)\n",
    " \n",
    "centroids = kmeans.cluster_centers_\n",
    "print(centroids)\n",
    "#plotting the results:\n",
    " \n",
    "for i in u_labels:\n",
    "    plt.scatter(X_scaled[label == i , 0] , X_scaled[label == i , 1] , label = i)\n",
    "plt.legend()\n",
    "plt.show()"
   ]
  },
  {
   "attachments": {},
   "cell_type": "markdown",
   "id": "collective-matter",
   "metadata": {},
   "source": [
    "*******************\n",
    "**YOUR ANSWER HERE**\n",
    "******************\n",
    "Firstly, we computer the centroid $\\mu_i$ for cluster $C_i$. We do this just below. <br>\n",
    "$\\mu_0 = \\frac{1}{|C_0|} \\Sigma_{x \\in C_0} x = (0,0)$ <br>\n",
    "$\\mu_1 = \\frac{1}{|C_1|} \\Sigma_{x \\in C_1} x = (1,1)$ <br>\n",
    "We now assign the points to the cluster with the closest centroid. Thereby, we compute the Euclidean distance and assign the points to clusters. Formally, assign a point $x \\in D$ to the cluster $j$ such that $j = argmin_i ||x-\\mu_i||$. We now compute the distance to each cluster for each point and assign the point to the cluster with the smallest distance. <br>\n",
    "$||x_0-\\mu_0||^2 = (-0.75082858-0)^2 + (-0.54497977-0)^2 = 0.86074650625$ <br>\n",
    "$||x_0-\\mu_1||^2 = (-0.75082858-1)^2 + (-0.54497977-1)^2 = 5.45236320625$ <br>\n",
    "We add $x_0$ to the $C_0$ cluster as it has the smallest distance. <br>\n",
    "$||x_1-\\mu_0||^2 = (-0.456386-0)^2 + (0.19901992-0)^2 = 0.24789710955$ <br>\n",
    "$||x_1-\\mu_1||^2 = (-0.456386-1)^2 + (0.19901992-1)^2 = 2.76262926955$ <br>\n",
    "We add $x_1$ to the $C_0$ cluster as it has the smallest distance. <br>\n",
    "$||x_2-\\mu_0||^2 = (-0.01472213-0)^2 + (-0.69377971-0)^2 = 0.48154702711$ <br>\n",
    "$||x_2-\\mu_1||^2 = (-0.01472213-1)^2 + (-0.69377971-1)^2 = 3.89855070712$ <br>\n",
    "We add $x_2$ to the $C_0$ cluster as it has the smallest distance. <br>\n",
    "$||x_3-\\mu_0||^2 = (-0.456386-0)^2 + (-0.84257965-0)^2 = 0.91822864759$ <br>\n",
    "$||x_3-\\mu_1||^2 = (-0.456386-1)^2 + (-0.84257965-1)^2 = 5.51615994759$ <br>\n",
    "We add $x_3$ to the $C_0$ cluster as it has the smallest distance. <br>\n",
    "$||x_4-\\mu_0||^2 = (0.27972045-0)^2 + (1.38941942-0)^2 = 2.00872985482$ <br>\n",
    "$||x_4-\\mu_1||^2 = (0.27972045-1)^2 + (1.38941942-1)^2 = 0.67045011482$ <br>\n",
    "We add $x_4$ to the $C_1$ cluster as it has the smallest distance. <br>\n",
    "$||x_5-\\mu_0||^2 = (-0.83916135-0)^2 + (-0.84257965-0)^2 = 1.41413223793$ <br>\n",
    "$||x_5-\\mu_1||^2 = (-0.83916135-1)^2 + (-0.84257965-1)^2 = 6.77761423793$ <br>\n",
    "We add $x_5$ to the $C_0$ cluster as it has the smallest distance. <br>\n",
    "$||x_6-\\mu_0||^2 = (0.27972045-0)^2 + (2.43101898-0)^2 = 5.98809681127$ <br>\n",
    "$||x_6-\\mu_1||^2 = (0.27972045-1)^2 + (2.43101898-1)^2 = 2.56661795127$ <br>\n",
    "We add $x_6$ to the $C_1$ cluster as it has the smallest distance. <br>\n",
    "$||x_7-\\mu_0||^2 = (-0.60360729-0)^2 + (0.27341989-0)^2 = 0.43910019678$ <br>\n",
    "$||x_7-\\mu_1||^2 = (-0.60360729-1)^2 + (0.27341989-1)^2 = 3.09947499679$ <br>\n",
    "We add $x_7$ to the $C_0$ cluster as it has the smallest distance. <br>\n",
    "$||x_8-\\mu_0||^2 = (-0.1030549-0)^2 + (0.7198197-0)^2 = 0.52876071292$ <br>\n",
    "$||x_8-\\mu_1||^2 = (-0.1030549-1)^2 + (0.7198197-1)^2 = 1.29523111292$ <br>\n",
    "We add $x_8$ to the $C_0$ cluster as it has the smallest distance. <br>\n",
    "$||x_9-\\mu_0||^2 = (0.27972045-0)^2 + (-0.69377971-0)^2 = 0.55957381615$ <br>\n",
    "$||x_9-\\mu_1||^2 = (0.27972045-1)^2 + (-0.69377971-1)^2 = 3.38769233616$ <br>\n",
    "We add $x_9$ to the $C_0$ cluster as it has the smallest distance. <br>\n",
    "$||x_{10}-\\mu_0||^2 = (-0.72138432-0)^2 + (-0.17297993-0)^2 = 0.55031739332$ <br>\n",
    "$||x_{10}-\\mu_1||^2 = (-0.72138432-1)^2 + (-0.17297993-1)^2 = 4.33904589332$ <br>\n",
    "We add $x_{10}$ to the $C_0$ cluster as it has the smallest distance. <br>\n",
    "$||x_{11}-\\mu_0||^2 = (3.75414288-0)^2 + (-0.99137958-0)^2 = 15.0764222351$ <br>\n",
    "$||x_{11}-\\mu_1||^2 = (3.75414288-1)^2 + (-0.99137958-1)^2 = 11.5508956351$ <br>\n",
    "We add $x_{11}$ to the $C_1$ cluster as it has the smallest distance. <br>\n",
    "$||x_{12}-\\mu_0||^2 = (0.39749748-0)^2 + (-0.61937974-0)^2 = 0.54163550892$ <br>\n",
    "$||x_{12}-\\mu_1||^2 = (0.39749748-1)^2 + (-0.61937974-1)^2 = 2.98540002893$ <br>\n",
    "We add $x_{12}$ to the $C_0$ cluster as it has the smallest distance. <br>\n",
    "$||x_{13}-\\mu_0||^2 = (-0.78027283-0)^2 + (-0.84257965-0)^2 = 1.31876615583$ <br>\n",
    "$||x_{13}-\\mu_1||^2 = (-0.78027283-1)^2 + (-0.84257965-1)^2 = 6.56447111583$ <br>\n",
    "We add $x_{13}$ to the $C_0$ cluster as it has the smallest distance. <br>\n",
    "$||x_{14}-\\mu_0||^2 = (-0.48583026-0)^2 + (0.79421967-0)^2 = 0.86681592574$ <br>\n",
    "$||x_{14}-\\mu_1||^2 = (-0.48583026-1)^2 + (0.79421967-1)^2 = 2.25003710575$ <br>\n",
    "We add $x_{14}$ to the $C_0$ cluster as it has the smallest distance. <br>\n",
    "$||x_{15}-\\mu_0||^2 = (-0.07361064-0)^2 + (0.49661979-0)^2 = 0.25204974214$ <br>\n",
    "$||x_{15}-\\mu_1||^2 = (-0.07361064-1)^2 + (0.49661979-1)^2 = 1.40603144214$ <br>\n",
    "We add $x_{15}$ to the $C_0$ cluster as it has the smallest distance. <br>\n",
    "$||x_{16}-\\mu_0||^2 = (-0.27972045-0)^2 + (0.79421967-0)^2 = 0.70902841436$ <br>\n",
    "$||x_{16}-\\mu_1||^2 = (-0.27972045-1)^2 + (0.79421967-1)^2 = 1.68002997436$ <br>\n",
    "We add $x_{16}$ to the $C_0$ cluster as it has the smallest distance. <br>\n",
    "$||x_{17}-\\mu_0||^2 = (0.39749748-0)^2 + (1.53821935-0)^2 = 2.52412301532$ <br>\n",
    "$||x_{17}-\\mu_1||^2 = (0.39749748-1)^2 + (1.53821935-1)^2 = 0.65268935532$ <br>\n",
    "We add $x_{17}$ to the $C_1$ cluster as it has the smallest distance. <br>\n",
    "$||x_{18}-\\mu_0||^2 = (1.04527116-0)^2 + (-1.14017952-0)^2 = 2.39260113576$ <br>\n",
    "$||x_{18}-\\mu_1||^2 = (1.04527116-1)^2 + (-1.14017952-1)^2 = 4.58241785576$ <br>\n",
    "We add $x_{18}$ to the $C_0$ cluster as it has the smallest distance. <br>\n",
    "$||x_{19}-\\mu_0||^2 = (-0.86860561-0)^2 + (-1.25177947-0)^2 = 2.32142754724$ <br>\n",
    "$||x_{19}-\\mu_1||^2 = (-0.86860561-1)^2 + (-1.25177947-1)^2 = 8.56219770724$ <br>\n",
    "We add $x_{19}$ to the $C_0$ cluster as it has the smallest distance. <br>\n",
    "Currently the clusters are the following: $C_0 = \\{x_0, x_1, x_2, x_3, x_5, x_7, x_8, x_9, x_{10}, x_{12}, x_{13}, x_{14}, x_{15}, x_{16}, x_{18}, x_{19}\\}$ and $C_1 = \\{x_4, x_6, x_{11}, x_{17}\\}$. We now recompute the centroids. <br>\n",
    "$\\mu_0 = \\frac{1}{|C_0|} \\Sigma_{x \\in C_0} x = (-0.33492843, -0.10555496)$ <br>\n",
    "$\\mu_1 = \\frac{1}{|C_1|} \\Sigma_{x \\in C_1} x = (0.24015473, 0.19471867)$ <br>\n",
    "We now repeat the above process until we reach the final centroids."
   ]
  },
  {
   "cell_type": "code",
   "execution_count": 76,
   "id": "d3cd9d79",
   "metadata": {},
   "outputs": [
    {
     "name": "stdout",
     "output_type": "stream",
     "text": [
      "Centroid 0 [-0.33492843 -0.10555496]\n",
      "Centroid 1 [0.24015473 0.19471867]\n",
      "(2,)\n"
     ]
    },
    {
     "ename": "ValueError",
     "evalue": "all the input arrays must have same number of dimensions, but the array at index 0 has 2 dimension(s) and the array at index 1 has 1 dimension(s)",
     "output_type": "error",
     "traceback": [
      "\u001b[1;31m---------------------------------------------------------------------------\u001b[0m",
      "\u001b[1;31mValueError\u001b[0m                                Traceback (most recent call last)",
      "Cell \u001b[1;32mIn[76], line 20\u001b[0m\n\u001b[0;32m     18\u001b[0m \u001b[39mif\u001b[39;00m dist_0 \u001b[39m<\u001b[39m dist_1:\n\u001b[0;32m     19\u001b[0m     \u001b[39mprint\u001b[39m(i\u001b[39m.\u001b[39mshape)\n\u001b[1;32m---> 20\u001b[0m     n_cl_0 \u001b[39m=\u001b[39m np\u001b[39m.\u001b[39;49mappend(n_cl_0, i, axis\u001b[39m=\u001b[39;49m\u001b[39m0\u001b[39;49m)\n\u001b[0;32m     22\u001b[0m \u001b[39melse\u001b[39;00m:\n\u001b[0;32m     23\u001b[0m     n_cl_1 \u001b[39m=\u001b[39m np\u001b[39m.\u001b[39mappend(n_cl_1, i, axis\u001b[39m=\u001b[39m\u001b[39m0\u001b[39m)\n",
      "File \u001b[1;32m<__array_function__ internals>:200\u001b[0m, in \u001b[0;36mappend\u001b[1;34m(*args, **kwargs)\u001b[0m\n",
      "File \u001b[1;32mc:\\Users\\Joachim Brendborg\\Documents\\Universitet\\8. Semester\\Data Mining\\dm2023-exercises\\dm23\\lib\\site-packages\\numpy\\lib\\function_base.py:5499\u001b[0m, in \u001b[0;36mappend\u001b[1;34m(arr, values, axis)\u001b[0m\n\u001b[0;32m   5497\u001b[0m     values \u001b[39m=\u001b[39m ravel(values)\n\u001b[0;32m   5498\u001b[0m     axis \u001b[39m=\u001b[39m arr\u001b[39m.\u001b[39mndim\u001b[39m-\u001b[39m\u001b[39m1\u001b[39m\n\u001b[1;32m-> 5499\u001b[0m \u001b[39mreturn\u001b[39;00m concatenate((arr, values), axis\u001b[39m=\u001b[39;49maxis)\n",
      "File \u001b[1;32m<__array_function__ internals>:200\u001b[0m, in \u001b[0;36mconcatenate\u001b[1;34m(*args, **kwargs)\u001b[0m\n",
      "\u001b[1;31mValueError\u001b[0m: all the input arrays must have same number of dimensions, but the array at index 0 has 2 dimension(s) and the array at index 1 has 1 dimension(s)"
     ]
    }
   ],
   "source": [
    "def L2_norm(x, y):\n",
    "    return np.sqrt(np.sum((x-y)**2))\n",
    "\n",
    "cluster_0 = np.delete(X_scaled, [4,6,11,18], axis=0)\n",
    "centroid_0 = cluster_0.sum(axis=0) / len(cluster_0)\n",
    "print(\"Centroid 0\", centroid_0)\n",
    "\n",
    "cluster_1 = np.delete(X_scaled, [0,1,2,3,5,7,8,9,10,12,13,14,15,16,18,9], axis=0)\n",
    "centroid_1 = cluster_1.sum(axis=0) / len(cluster_0)\n",
    "print(\"Centroid 1\", centroid_1)\n",
    "\n",
    "\n",
    "n_cl_0 = np.empty([2,1])\n",
    "n_cl_1 = np.empty([2,1])\n",
    "for i in cluster_0:\n",
    "    dist_0 = L2_norm(i, centroid_0)\n",
    "    dist_1 = L2_norm(i, centroid_1)\n",
    "    if dist_0 < dist_1:\n",
    "        print(i.shape)\n",
    "        n_cl_0 = np.append(n_cl_0, i, axis=0)\n",
    "        \n",
    "    else:\n",
    "        n_cl_1 = np.append(n_cl_1, i, axis=0)\n",
    "\n",
    "for i in cluster_1:\n",
    "    dist_0 = L2_norm(i, centroid_0)\n",
    "    dist_1 = L2_norm(i, centroid_1)\n",
    "    if dist_0 < dist_1:\n",
    "        n_cl_0 = np.append(n_cl_0, i, axis=0)\n",
    "    else:\n",
    "        n_cl_1 = np.append(n_cl_1, i, axis=0)\n",
    "print(n_cl_0)\n",
    "\n",
    "\n",
    "centroid_0 = n_cl_0.sum(axis=0) / len(n_cl_0)\n",
    "print(\"New Centroid 0\", centroid_0)\n",
    "\n",
    "centroid_1 = n_cl_1.sum(axis=0) / len(n_cl_1)\n",
    "print(\"New Centroid 1\", centroid_1)\n",
    "\n",
    "# [[ 0.09502465 -0.78508876]\n",
    "#  [-0.11614124  0.95955293]]\n"
   ]
  },
  {
   "cell_type": "markdown",
   "id": "alive-somerset",
   "metadata": {},
   "source": [
    "### Task 1.1.2 (2 point)\n",
    "<span style='color: green'>**\\[Compute by hand\\]**</span> <br>\n",
    "A) Show two examples with two different initial cluster assignments that lead to a different result. <br>"
   ]
  },
  {
   "cell_type": "markdown",
   "id": "functional-vertex",
   "metadata": {},
   "source": [
    "*******************\n",
    "**YOUR ANSWER HERE**\n",
    "******************"
   ]
  },
  {
   "cell_type": "markdown",
   "id": "israeli-chicago",
   "metadata": {},
   "source": [
    "<span style='color: green'>**\\[Motivate\\]**</span> <br>\n",
    "B) How you explain the difference between the two cluster assignments in point A)?"
   ]
  },
  {
   "cell_type": "markdown",
   "id": "unable-office",
   "metadata": {},
   "source": [
    "*******************\n",
    "**YOUR ANSWER HERE**\n",
    "******************"
   ]
  },
  {
   "cell_type": "markdown",
   "id": "statutory-management",
   "metadata": {},
   "source": [
    "### Task 1.1.3 (5 points)\n",
    "<span style='color: green'>**\\[Compute by hand\\]**</span> the dendrogram for the dataset of Task 1.1.1. using **average-link**."
   ]
  },
  {
   "cell_type": "markdown",
   "id": "specified-template",
   "metadata": {},
   "source": [
    "*******************\n",
    "**YOUR ANSWER HERE**\n",
    "******************"
   ]
  },
  {
   "cell_type": "markdown",
   "id": "first-benjamin",
   "metadata": {},
   "source": [
    "### Task 1.1.4 (2 points)\n",
    "A) <span style='color: green'>**\\[Compute by hand\\]**</span> the density-based clustering for the dataset of Task 1.1.1 using $\\epsilon=0.35$ and $MinPts=3$. Present at least 2 iterations of the algorithm.<br> \n",
    "<font color='red'>**IMPORTANT: For this exercise you can use the DBSCAN from sklearn ONLY TO CHECK YOUR RESULTS**</font>"
   ]
  },
  {
   "cell_type": "markdown",
   "id": "american-emperor",
   "metadata": {},
   "source": [
    "*******************\n",
    "**YOUR ANSWER HERE**\n",
    "******************"
   ]
  },
  {
   "cell_type": "code",
   "execution_count": 14,
   "id": "90bfa10a",
   "metadata": {},
   "outputs": [
    {
     "name": "stdout",
     "output_type": "stream",
     "text": [
      "[[-0.75082858 -0.54497977]\n",
      " [-0.456386    0.19901992]\n",
      " [-0.01472213 -0.69377971]\n",
      " [-0.456386   -0.84257965]\n",
      " [ 0.27972045  1.38941942]\n",
      " [-0.83916135 -0.84257965]\n",
      " [ 0.27972045  2.43101898]\n",
      " [-0.60360729  0.27341989]\n",
      " [-0.1030549   0.7198197 ]\n",
      " [ 0.27972045 -0.69377971]\n",
      " [-0.72138432 -0.17297993]\n",
      " [ 3.75414288 -0.99137958]\n",
      " [ 0.39749748 -0.61937974]\n",
      " [-0.78027283 -0.84257965]\n",
      " [-0.48583026  0.79421967]\n",
      " [-0.07361064  0.49661979]\n",
      " [-0.27972045  0.79421967]\n",
      " [ 0.39749748  1.53821935]\n",
      " [ 1.04527116 -1.14017952]\n",
      " [-0.86860561 -1.25177947]]\n"
     ]
    }
   ],
   "source": [
    "print(X_scaled)"
   ]
  },
  {
   "attachments": {},
   "cell_type": "markdown",
   "id": "323a8266",
   "metadata": {},
   "source": [
    "$\\epsilon = 0.35$ and $MinPts = 3$<br>\n",
    "\n",
    "To calculate which points are core points I do the following:<br>\n",
    "For every point x calculate the neighbourhood of x by finding all points have distance <= $\\epsilon$ to x.<br>\n",
    "$N(x)= \\{y \\in D | \\sqrt{(x-y)^2} \\leq \\epsilon \\}$\n"
   ]
  },
  {
   "attachments": {},
   "cell_type": "markdown",
   "id": "a47eab52",
   "metadata": {},
   "source": [
    "For example consider x = (-0.75082858, -0.54497977) <br>\n",
    "\n",
    "Firstly the point itself will always be in the neighborhood, since $\\sqrt{(-0.75082858-(-0.75082858))^2+(-0.54497977-(-0.54497977))^2} =0$.<br>\n",
    "We then ask for all other points <br>\n",
    "Is point (-0.456386,0.19901992) in the neighborhood? $\\sqrt{(-0.75082858-(-0.456386))^2+(-0.54497977-0.19901992)^2} = 0.8001450$.<br>\n",
    "So not in the neighborhood.<br>\n",
    "Is point (-0.01472213,-0.69377971) in the neighborhood? $\\sqrt{(-0.75082858-(-0.01472213))^2+(-0.54497977-(-0.69377971))^2} = 0.75099542$.<br>\n",
    "So not in the neighborhood.<br>\n",
    "You will find the neigborhood of x to be (-0.75082858, -0.54497977), (-0.83916135, -0.84257965), (-0.78027283, -0.84257965).<br>\n",
    "\n",
    "A point will be a core point if the number of neighbors is equal or larger that $MinPts$<br>\n",
    "Core points are the following:<br>\n",
    "(-0.75082858, -0.54497977), (-0.83916135, -0.84257965), (-0.1030549,  0.7198197), (0.27972045, -0.69377971), (-0.78027283, -0.84257965), (-0.27972045,  0.79421967)"
   ]
  },
  {
   "attachments": {},
   "cell_type": "markdown",
   "id": "047a3c89",
   "metadata": {},
   "source": [
    "We will now compute the density-based clusters of the first iteration.<br>\n",
    "\n",
    "x = (-0.75082858, -0.54497977)<br>\n",
    "x is not part of any cluster<br>\n",
    "x is in fact a core object <br>\n",
    "cluster1 = all density reachable points from x"
   ]
  },
  {
   "cell_type": "code",
   "execution_count": 12,
   "id": "cba64c78",
   "metadata": {},
   "outputs": [],
   "source": [
    "def L2_norm(x, y):\n",
    "    return np.sqrt(np.sum((x-y)**2))\n",
    "    "
   ]
  },
  {
   "cell_type": "code",
   "execution_count": 22,
   "id": "70f6b89d",
   "metadata": {},
   "outputs": [
    {
     "name": "stdout",
     "output_type": "stream",
     "text": [
      "[array([-0.75082858, -0.54497977]), array([-0.83916135, -0.84257965]), array([-0.1030549,  0.7198197]), array([ 0.27972045, -0.69377971]), array([-0.78027283, -0.84257965]), array([-0.27972045,  0.79421967])]\n",
      "points and neighbors {b'\\xa0\\xc9\\xdb\\xa6\\xc9\\x06\\xe8\\xbf\\x82\\x8c\\xcbjyp\\xe1\\xbf': [array([-0.75082858, -0.54497977]), array([-0.83916135, -0.84257965]), array([-0.78027283, -0.84257965])], b'\\xfb\\xd1\\xab\\x9dm5\\xdd\\xbf\\x0b\\xb14\\x10|y\\xc9?': [array([-0.456386  ,  0.19901992]), array([-0.60360729,  0.27341989])], b'\\x11\\x02F\\xb3\\xa2&\\x8e\\xbf\\xa5\\xe4\\xf6\\x80q3\\xe6\\xbf': [array([-0.01472213, -0.69377971]), array([ 0.27972045, -0.69377971])], b'\\xfb\\xd1\\xab\\x9dm5\\xdd\\xbf\\xd3<\"\\x97i\\xf6\\xea\\xbf': [array([-0.456386  , -0.84257965]), array([-0.78027283, -0.84257965])], b'4\\x91q\\x9a\\xf0\\xe6\\xd1?\\xbe\\xf6\\xb3\\xda\\x0f;\\xf6?': [array([0.27972045, 1.38941942]), array([0.39749748, 1.53821935])], b'\\xd0Y\\xaa\\xe7h\\xda\\xea\\xbf\\xd3<\"\\x97i\\xf6\\xea\\xbf': [array([-0.75082858, -0.54497977]), array([-0.83916135, -0.84257965]), array([-0.78027283, -0.84257965])], b'4\\x91q\\x9a\\xf0\\xe6\\xd1?\\xa4\\xd5%\\x14\\xbar\\x03@': [array([0.27972045, 2.43101898])], b'M\\xd9\\xd8:\\xc0P\\xe3\\xbf\\xa8\\xb0E\\x1e\\xb6\\x7f\\xd1?': [array([-0.456386  ,  0.19901992]), array([-0.60360729,  0.27341989])], b'\\xcfA\\xdd\\\\\\xcea\\xba\\xbf\\xc8\\xe0\\xa4Q\\xc3\\x08\\xe7?': [array([-0.1030549,  0.7198197]), array([-0.07361064,  0.49661979]), array([-0.27972045,  0.79421967])], b'4\\x91q\\x9a\\xf0\\xe6\\xd1?\\xa5\\xe4\\xf6\\x80q3\\xe6\\xbf': [array([-0.01472213, -0.69377971]), array([ 0.27972045, -0.69377971]), array([ 0.39749748, -0.61937974])], b'\\x8f\\x99A\\x91\\x94\\x15\\xe7\\xbf~\\xc0|\\xcd4$\\xc6\\xbf': [array([-0.72138432, -0.17297993])], b'\\x07\\xbc\\x92\\x10|\\x08\\x0e@\\xf6\\x94M\\xada\\xb9\\xef\\xbf': [array([ 3.75414288, -0.99137958])], b'\\xb9\\x11CG\\x99p\\xd9?\\x938\\xe1u\\xf5\\xd1\\xe3\\xbf': [array([ 0.27972045, -0.69377971]), array([ 0.39749748, -0.61937974])], b'\\xaf\\xf9u\\xbc\\xfe\\xf7\\xe8\\xbf\\xd3<\"\\x97i\\xf6\\xea\\xbf': [array([-0.75082858, -0.54497977]), array([-0.456386  , -0.84257965]), array([-0.83916135, -0.84257965]), array([-0.78027283, -0.84257965])], b'\\x162\\xe0\\xc8\\xd7\\x17\\xdf\\xbf\\xe5\\x8c\\xba\\\\?j\\xe9?': [array([-0.48583026,  0.79421967]), array([-0.27972045,  0.79421967])], b'K\\xc1\\x0b\\xb0%\\xd8\\xb2\\xbf(\\xb9\\xc7`\\x9e\\xc8\\xdf?': [array([-0.1030549,  0.7198197]), array([-0.07361064,  0.49661979])], b'4\\x91q\\x9a\\xf0\\xe6\\xd1\\xbf\\xe5\\x8c\\xba\\\\?j\\xe9?': [array([-0.1030549,  0.7198197]), array([-0.48583026,  0.79421967]), array([-0.27972045,  0.79421967])], b'\\xb9\\x11CG\\x99p\\xd9?\\xd5\\xa2\\xc9\\xe5\\x8b\\x9c\\xf8?': [array([0.27972045, 1.38941942]), array([0.39749748, 1.53821935])], b'#\\xd5p?n\\xb9\\xf0?\\x92v\\xbc\\xe1,>\\xf2\\xbf': [array([ 1.04527116, -1.14017952])], b'\\xe1\\x89D\\xfd\\x9d\\xcb\\xeb\\xbf\\x9c\\xb7\\x0c\\xeaI\\x07\\xf4\\xbf': [array([-0.86860561, -1.25177947])]}\n"
     ]
    }
   ],
   "source": [
    "e = 0.35\n",
    "MinPts = 3\n",
    "core_points = []\n",
    "neighbors = dict()\n",
    "for x in X_scaled:\n",
    "    Nx = []\n",
    "    for y in X_scaled:\n",
    "        if L2_norm(x,y) <= e:\n",
    "            Nx.append(y)\n",
    "    if len(Nx) >= MinPts:\n",
    "        core_points.append((x))\n",
    "    neighbors[x.tostring()] = Nx\n",
    "print(core_points)\n",
    "print(\"points and neighbors\",neighbors)\n"
   ]
  },
  {
   "cell_type": "code",
   "execution_count": 33,
   "id": "c74dcec8",
   "metadata": {},
   "outputs": [],
   "source": [
    "def directly_density_reachable(y,x):\n",
    "    print(y)\n",
    "    Nx = neighbors[x.tostring()]\n",
    "    print(Nx)\n",
    "    print(y in neighbors[x.tostring()])\n",
    "    print(x in core_points)\n",
    "    return y in neighbors[x.tostring()] and  x in core_points\n"
   ]
  },
  {
   "cell_type": "code",
   "execution_count": 34,
   "id": "908e3379",
   "metadata": {},
   "outputs": [
    {
     "name": "stdout",
     "output_type": "stream",
     "text": [
      "[-0.75082858 -0.54497977]\n",
      "[array([-0.75082858, -0.54497977]), array([-0.83916135, -0.84257965]), array([-0.78027283, -0.84257965])]\n"
     ]
    },
    {
     "ename": "ValueError",
     "evalue": "The truth value of an array with more than one element is ambiguous. Use a.any() or a.all()",
     "output_type": "error",
     "traceback": [
      "\u001b[1;31m---------------------------------------------------------------------------\u001b[0m",
      "\u001b[1;31mValueError\u001b[0m                                Traceback (most recent call last)",
      "Cell \u001b[1;32mIn[34], line 9\u001b[0m\n\u001b[0;32m      6\u001b[0m                 density_reachable_points\u001b[39m.\u001b[39madd(p)\n\u001b[0;32m      7\u001b[0m     \u001b[39mreturn\u001b[39;00m density_reachable_points\n\u001b[1;32m----> 9\u001b[0m \u001b[39mprint\u001b[39m(density_reachable(X_scaled[\u001b[39m0\u001b[39;49m]))\n",
      "Cell \u001b[1;32mIn[34], line 5\u001b[0m, in \u001b[0;36mdensity_reachable\u001b[1;34m(x, D)\u001b[0m\n\u001b[0;32m      3\u001b[0m \u001b[39mfor\u001b[39;00m p \u001b[39min\u001b[39;00m D:\n\u001b[0;32m      4\u001b[0m     \u001b[39mfor\u001b[39;00m y \u001b[39min\u001b[39;00m neighbors[x\u001b[39m.\u001b[39mtostring()]:\n\u001b[1;32m----> 5\u001b[0m         \u001b[39mif\u001b[39;00m directly_density_reachable(p,y):\n\u001b[0;32m      6\u001b[0m             density_reachable_points\u001b[39m.\u001b[39madd(p)\n\u001b[0;32m      7\u001b[0m \u001b[39mreturn\u001b[39;00m density_reachable_points\n",
      "Cell \u001b[1;32mIn[33], line 5\u001b[0m, in \u001b[0;36mdirectly_density_reachable\u001b[1;34m(y, x)\u001b[0m\n\u001b[0;32m      3\u001b[0m Nx \u001b[39m=\u001b[39m neighbors[x\u001b[39m.\u001b[39mtostring()]\n\u001b[0;32m      4\u001b[0m \u001b[39mprint\u001b[39m(Nx)\n\u001b[1;32m----> 5\u001b[0m \u001b[39mprint\u001b[39m(y \u001b[39min\u001b[39;49;00m neighbors[x\u001b[39m.\u001b[39;49mtostring()])\n\u001b[0;32m      6\u001b[0m \u001b[39mprint\u001b[39m(x \u001b[39min\u001b[39;00m core_points)\n\u001b[0;32m      7\u001b[0m \u001b[39mreturn\u001b[39;00m y \u001b[39min\u001b[39;00m neighbors[x\u001b[39m.\u001b[39mtostring()] \u001b[39mand\u001b[39;00m  x \u001b[39min\u001b[39;00m core_points\n",
      "\u001b[1;31mValueError\u001b[0m: The truth value of an array with more than one element is ambiguous. Use a.any() or a.all()"
     ]
    }
   ],
   "source": [
    "def density_reachable(x, D=X_scaled):\n",
    "    density_reachable_points = set()\n",
    "    for p in D:\n",
    "        for y in neighbors[x.tostring()]:\n",
    "            if directly_density_reachable(p,y):\n",
    "                density_reachable_points.add(p)\n",
    "    return density_reachable_points\n",
    "\n",
    "print(density_reachable(X_scaled[0]))\n",
    "\n",
    "    "
   ]
  },
  {
   "cell_type": "markdown",
   "id": "checked-briefs",
   "metadata": {},
   "source": [
    "\n",
    "B) <span style='color: green'>**\\[Describe\\]**</span> the difference between the clusters obtained with DBSCAN and those obtained with KMeans in Task 1.1.1?"
   ]
  },
  {
   "cell_type": "markdown",
   "id": "settled-programming",
   "metadata": {},
   "source": [
    "*******************\n",
    "**YOUR ANSWER HERE**\n",
    "******************"
   ]
  },
  {
   "cell_type": "markdown",
   "id": "spanish-fields",
   "metadata": {},
   "source": [
    "## Task 1.2 Elliptic data set (2 points)\n",
    "<span style='color: green'>**\\[Describe\\]**</span> <br> \n",
    "After looking at the dataset _below_, you want to detect the red outlier point, assuming you know that it is an outlier. \n",
    "\n",
    "Which approach would be the most obvious to find the red outlier? Please (1) check the box and (2) motivate your answer below:\n",
    "- [ ] Distance based approach (with parameteres $\\pi=0.5$, $\\epsilon=2$ and euclidean distance)\n",
    "- [ ] Angle based approach\n",
    "- [ ] Depth based approach"
   ]
  },
  {
   "cell_type": "code",
   "execution_count": 6,
   "id": "suspended-legend",
   "metadata": {},
   "outputs": [
    {
     "data": {
      "image/png": "[encoded data removed]",
      "text/plain": [
       "<Figure size 640x480 with 1 Axes>"
      ]
     },
     "metadata": {},
     "output_type": "display_data"
    }
   ],
   "source": [
    "D_new = np.array([[1.0, 2.0], # Red \n",
    "                [1., 1.0],\n",
    "                [0.5, 0.5],\n",
    "                [1, 0.5],\n",
    "                [0.5, 1],\n",
    "                [0.75, 0.75]\n",
    "                 ])\n",
    "\n",
    "plt.scatter(D_new[:, 0], D_new[:, 1], alpha=0.8, c = ['red' if i == 0 else 'blue' for i in range(len(D_new))])\n",
    "plt.axis([0, 2, 0,3])\n",
    "plt.show()"
   ]
  },
  {
   "cell_type": "markdown",
   "id": "removable-tuesday",
   "metadata": {},
   "source": [
    "*******************\n",
    "**YOUR ANSWER HERE**\n",
    "******************"
   ]
  },
  {
   "cell_type": "markdown",
   "id": "southeast-extraction",
   "metadata": {},
   "source": [
    "## Task 1.3 Theoretical questions (4 points)\n",
    "<span style='color: green'>**\\[Prove\\]**</span> \n",
    "\n",
    "1. You are given a measure $d(x,y) = |x-y|$, prove that the measure is a metric \n",
    "2. Prove that $\\hat{\\Sigma}=\n",
    "\\frac{1}{n}\\sum_{i=1}^n (x_i -\\hat{\\mu}^\\top)\\cdot(x_i -\\hat{\\mu}^\\top)^\\top=E[(X-\\hat{\\mu})(X-\\hat{\\mu})^\\top]$"
   ]
  },
  {
   "cell_type": "markdown",
   "id": "single-column",
   "metadata": {},
   "source": [
    "*******************\n",
    "**YOUR ANSWER HERE**\n",
    "******************"
   ]
  },
  {
   "cell_type": "markdown",
   "id": "metropolitan-artwork",
   "metadata": {},
   "source": [
    "# Part 2 Exploratory data analysis\n",
    "In this section, you will perform preliminary analysis on your data. These preliminary analysis are useful to understand how the data behaves, before running complex algorithms.<br>\n",
    "\n",
    "This dataset is about red wine variants of the Portuguese \"Vinho Verde\" wine. It only contains physicochemical and sensory variables, so no prices, grape types and such. Every sample  has also a class of quality which has scores between 1 and 10. It has been used and published with [Cortez et al., 2009](http://dx.doi.org/10.1016/j.dss.2009.05.016)"
   ]
  },
  {
   "cell_type": "code",
   "execution_count": null,
   "id": "guilty-vegetable",
   "metadata": {},
   "outputs": [],
   "source": [
    "toy = wq[wq['quality'].isin([4, 8])]\n",
    "data_np = toy.to_numpy()\n",
    "headers = [\"fixed acidity\",\"volatile acidity\",\"citric acid\",\"residual sugar\",\"chlorides\",\"free sulfur dioxide\",\"total sulfur dioxide\",\"density\",\"pH\",\"sulphates\",\"alcohol\",\"quality\"]\n",
    "X = data_np[:,:10]\n",
    "y = data_np[:,11]\n",
    "y = y.astype(int) - 1\n",
    "rows, cols = np.shape(X)\n",
    "toy.head()"
   ]
  },
  {
   "cell_type": "markdown",
   "id": "passive-ottawa",
   "metadata": {},
   "source": [
    "## Task 2.1 Correlation matrix\n",
    "### Task 2.1.1 (5 points)\n",
    "A) <span style='color: green'>**\\[Implement\\]**</span> in the code-box below the **correlation matrix** (not covariance matrix) among all the attributes. <br>\n",
    "<font color='red'>To CHECK your results you can use **numpy.corrcoef**.</font>"
   ]
  },
  {
   "cell_type": "code",
   "execution_count": null,
   "id": "occasional-seeking",
   "metadata": {},
   "outputs": [],
   "source": [
    "def correlation_matrix(X):\n",
    "    corr = None\n",
    "    # YOUR CODE HERE\n",
    "    \n",
    "    \n",
    "    \n",
    "    # YOUR CODE HERE \n",
    "    return corr\n",
    "    \n",
    "X = data_np\n",
    "Corr = correlation_matrix(X)\n",
    "plt.matshow(Corr)\n",
    "plt.colorbar()"
   ]
  },
  {
   "cell_type": "markdown",
   "id": "suburban-volume",
   "metadata": {},
   "source": [
    "<span style='color: green'>**\\[Motivate\\]**</span><br>\n",
    "B) By observing the  **correlation matrix** in point A), which pair of different attributes has the highest correlation? <br>"
   ]
  },
  {
   "cell_type": "markdown",
   "id": "median-silver",
   "metadata": {},
   "source": [
    "*******************\n",
    "**YOUR ANSWER HERE**\n",
    "******************"
   ]
  },
  {
   "cell_type": "markdown",
   "id": "higher-senator",
   "metadata": {},
   "source": [
    "<span style='color: green'>**\\[Motivate\\]**</span><br>\n",
    "C) What does it mean that two attributs are highly correlated? <br>"
   ]
  },
  {
   "cell_type": "markdown",
   "id": "creative-breath",
   "metadata": {},
   "source": [
    "*******************\n",
    "**YOUR ANSWER HERE**\n",
    "******************"
   ]
  },
  {
   "cell_type": "markdown",
   "id": "knowing-springfield",
   "metadata": {},
   "source": [
    "<span style='color: green'>**\\[Motivate\\]**</span><br>\n",
    "D) Based on the attributes of the data in Part 2 and your answer in C), did you expect the observation of B)? <br>"
   ]
  },
  {
   "cell_type": "markdown",
   "id": "configured-weekly",
   "metadata": {},
   "source": [
    "*******************\n",
    "**YOUR ANSWER HERE**\n",
    "******************"
   ]
  },
  {
   "cell_type": "markdown",
   "id": "average-content",
   "metadata": {},
   "source": [
    "### Task 2.1.2 (1 points)\n",
    "<span style='color: green'>**\\[Motivate\\]**</span><br>\n",
    "\n",
    "Plot the correlation matrix running the code below.\n",
    "What is the relationship between the correlation matrix and the covariance matrix? (1) Check the correct box below and (2) motivate your answer.\n",
    "\n",
    "- [ ] The correlation matrix contains the unnormalized covariance values\n",
    "- [ ] The correlation matrix contains the normalized covariance values\n",
    "- [ ] The covariance matrix contains the variance of the correlation"
   ]
  },
  {
   "cell_type": "code",
   "execution_count": null,
   "id": "productive-newark",
   "metadata": {},
   "outputs": [],
   "source": [
    "sns.heatmap(wq.corr(),annot=True,linewidths=.5, cmap=\"YlGnBu\", annot_kws={\"fontsize\":8}, vmax=1)\n",
    "plt.title('Correlation')\n",
    "plt.show()"
   ]
  },
  {
   "cell_type": "markdown",
   "id": "dimensional-behalf",
   "metadata": {},
   "source": [
    "*******************\n",
    "**YOUR ANSWER HERE**\n",
    "******************"
   ]
  },
  {
   "cell_type": "markdown",
   "id": "interior-shelter",
   "metadata": {},
   "source": [
    "### Task 2.1.3 (3 points)\n",
    "\n",
    "In this task, we reason about the covariance matrices.\n",
    "\n",
    "<span style='color: green'>**\\[Implement\\]**</span> code for normalizing the features of the wine dataset using (1) standard score normalization and (2) range normalization. Finally, (3) plot the **covariance** matrices for\n",
    "1. The unnormalized data\n",
    "2. The [standard score normalized features](https://en.wikipedia.org/wiki/Standard_score)\n",
    "3. The range (min-max) normalized features"
   ]
  },
  {
   "cell_type": "code",
   "execution_count": null,
   "id": "broadband-reverse",
   "metadata": {},
   "outputs": [],
   "source": [
    "# Data\n",
    "X = data_np\n",
    "\n",
    "# YOUR CODE HERE\n",
    "\n",
    "\n",
    "# YOUR CODE HERE"
   ]
  },
  {
   "cell_type": "markdown",
   "id": "governmental-decision",
   "metadata": {},
   "source": [
    "### Task 2.1.4 (3 points)\n",
    "<span style='color: green'>**\\[Describe\\]**</span> how the covariance matrix changes with different normalization schemes and reason on why such behaviour appears.\n",
    "You should notice some differences. (1) Check the correct box below and (2) motivate your answer.\n",
    "\n",
    "\n",
    "\n",
    "- [ ] Range normalization preserves the variance. Therefore, features are directly comparable.\n",
    "- [ ] Standard score normalization preserves the variance. Therefore, features are directly comparable.\n",
    "- [ ] Both methods normalize in such a way, that it makes sense to compare the different covariance values to each other.\n",
    "- [ ] None of the methods normalize in such a way that it makes sense to compare the different covariance values to each other.\n",
    "\n",
    "<font color='red'>IMPORTANT: Do NOT just choose one answer. Please clarify WHY this is the correct answer.</font>"
   ]
  },
  {
   "cell_type": "markdown",
   "id": "representative-adapter",
   "metadata": {},
   "source": [
    "*******************\n",
    "**YOUR ANSWER HERE**\n",
    "******************"
   ]
  },
  {
   "cell_type": "markdown",
   "id": "pleased-entry",
   "metadata": {},
   "source": [
    "## Task 2.2 Normal distribution\n",
    "### Task 2.2.1 (6 points)\n",
    "Sometimes it is convenient to know whether a variable is close to a normal distribution.\n",
    "\n",
    "<span style='color: green'>**\\[Implement\\]**</span> a method norm_dist that: <br>\n",
    "    \n",
    "1) **Inputs**: \n",
    "    * the number of buckets $b$ \n",
    "    * a vector $x$ of values \n",
    "2) First, compute the histogram of a Gaussian variable with mean $\\mu$ corresponding to the sample mean of $x$ and $\\sigma^2$ corresponding to the sample variance of $x$. Second, calculate the histogram of $x$ using $b$ buckets. \n",
    "3) **Output**: the sum of the absolute differences of the buckets between the two histograms computed in 2). The sum of the differences is computed as \n",
    "$$\\sum_{i=1}^b |H_X(i) - H_{\\mathcal{N}}(i)|$$ \n",
    "where $H_X(i)$ is the i-th bucket of the histogram of $x$ and $H_\\mathcal{N}(i)$ is the i-th bucket of the hisotgram obtained from the normal distribution $\\mathcal{N}(\\mu,\\sigma^2)$. \n",
    "\n",
    "<font color='red'>IMPORTANT: You can use the norm function from Scipy to get the normal distribution to subtract from.</font>"
   ]
  },
  {
   "cell_type": "code",
   "execution_count": null,
   "id": "willing-bobby",
   "metadata": {},
   "outputs": [],
   "source": [
    "from scipy.stats import norm\n",
    "\n",
    "## Our data comes from the variable X\n",
    "X = data_np\n",
    "def norm_dist(x, b): \n",
    "    dist = 0\n",
    "    ### YOUR CODE HERE\n",
    "    \n",
    "    \n",
    "    ### YOUR CODE HERE\n",
    "    return dist"
   ]
  },
  {
   "cell_type": "markdown",
   "id": "coated-mission",
   "metadata": {},
   "source": [
    "### Task 2.2.2 (6 point)\n",
    "A) <span style='color: green'>**\\[Motivate\\]**</span> which drawbacks the method in Task 2.2.1 has. "
   ]
  },
  {
   "cell_type": "markdown",
   "id": "afraid-sharp",
   "metadata": {},
   "source": [
    "*******************\n",
    "**YOUR ANSWER HERE**\n",
    "******************"
   ]
  },
  {
   "cell_type": "markdown",
   "id": "integrated-blowing",
   "metadata": {},
   "source": [
    "B) <span style='color: green'>**\\[Motivate\\]**</span> whether the method in Task 2.2.1  is robust to outliers. "
   ]
  },
  {
   "cell_type": "markdown",
   "id": "worldwide-blade",
   "metadata": {},
   "source": [
    "*******************\n",
    "**YOUR ANSWER HERE**\n",
    "******************"
   ]
  },
  {
   "cell_type": "markdown",
   "id": "quarterly-crown",
   "metadata": {},
   "source": [
    "<span style='color: green'>**\\[Implement\\]**</span><br>\n",
    "C) Run your code on each columns of the dataset. "
   ]
  },
  {
   "cell_type": "code",
   "execution_count": null,
   "id": "governing-ceramic",
   "metadata": {},
   "outputs": [],
   "source": [
    "# YOUR CODE HERE\n",
    "\n",
    "\n",
    "\n",
    "# YOUR CODE HERE"
   ]
  },
  {
   "cell_type": "markdown",
   "id": "competent-female",
   "metadata": {},
   "source": [
    "<span style='color: green'>**\\[Motivate\\]**</span><br>\n",
    "D) What is the column with the largest distance? "
   ]
  },
  {
   "cell_type": "markdown",
   "id": "useful-workplace",
   "metadata": {},
   "source": [
    "*******************\n",
    "**YOUR ANSWER HERE**\n",
    "******************"
   ]
  },
  {
   "cell_type": "markdown",
   "id": "directed-delay",
   "metadata": {},
   "source": [
    "<span style='color: green'>**\\[Motivate\\]**</span><br>\n",
    "E) Do the attribute features follow a normal distribution?"
   ]
  },
  {
   "cell_type": "markdown",
   "id": "instant-match",
   "metadata": {},
   "source": [
    "*******************\n",
    "**YOUR ANSWER HERE**\n",
    "******************"
   ]
  },
  {
   "cell_type": "markdown",
   "id": "increased-cyprus",
   "metadata": {},
   "source": [
    "### Task 2.2.3 (1 points)\n",
    "\n",
    "Now look at the method below. This is called a Quantile-Quantile [Q-Q plot](https://en.wikipedia.org/wiki/Q%E2%80%93Q_plot). \n",
    "\n",
    "<span style='color: green'>**\\[Describe\\]**</span> why this method is more robust than the one we proposed in Task 2.2.1."
   ]
  },
  {
   "cell_type": "code",
   "execution_count": null,
   "id": "environmental-battery",
   "metadata": {
    "tags": []
   },
   "outputs": [],
   "source": [
    "from scipy import stats\n",
    "from matplotlib import gridspec\n",
    "\n",
    "plt.tight_layout()\n",
    "_, n = X.shape\n",
    "\n",
    "fig = plt.figure(constrained_layout=True, figsize=(8, 30))\n",
    "spec = gridspec.GridSpec(ncols=2, nrows=(n-1), figure=fig)\n",
    "for i in np.arange(3,n): \n",
    "    x = toy[headers[i]]\n",
    "    r = i-1\n",
    "    qq = fig.add_subplot(spec[r, 1]) \n",
    "    stats.probplot(x, plot=qq)\n",
    "    h = fig.add_subplot(spec[r, 0])\n",
    "    h.set_title(headers[i])\n",
    "    h.hist(x, bins = 30)"
   ]
  },
  {
   "cell_type": "markdown",
   "id": "flush-harbor",
   "metadata": {},
   "source": [
    "*******************\n",
    "**YOUR ANSWER HERE**\n",
    "******************"
   ]
  },
  {
   "attachments": {},
   "cell_type": "markdown",
   "id": "collaborative-kinase",
   "metadata": {},
   "source": [
    "# Part 3 Cluster Analysis\n",
    "In this section, you will perform cluster analysis of the dataset in Part 2 and modify clustering algorithms to achieve better results. \n",
    "\n",
    "## Task 3.1\n",
    "\n",
    "### Task 3.1.1 (6 points)\n",
    "A)  <span style='color: green'>**\\[Implement\\]**</span> and use the elbow method plotting the **silhouette coefficient** to detect the number of clusters $k$. \n",
    "\n",
    "Use the \"sulphates\" and \"alcohol\" features of the data set. Your final plot should look like the figure below:\n",
    "\n",
    "![SNOWFALL](images/elbow.png)"
   ]
  },
  {
   "cell_type": "code",
   "execution_count": null,
   "id": "unknown-renaissance",
   "metadata": {},
   "outputs": [],
   "source": [
    "# Data\n",
    "X = toy[[\"sulphates\", \"alcohol\"]].to_numpy()\n",
    "### YOUR CODE HERE\n",
    "\n",
    "\n",
    "### YOUR CODE HERE"
   ]
  },
  {
   "cell_type": "markdown",
   "id": "passive-bubble",
   "metadata": {},
   "source": [
    "B) <span style='color: green'>**\\[Motivate\\]**</span> your choice of clusters $k$."
   ]
  },
  {
   "cell_type": "markdown",
   "id": "traditional-pharmacy",
   "metadata": {},
   "source": [
    "*******************\n",
    "**YOUR ANSWER HERE**\n",
    "******************"
   ]
  },
  {
   "cell_type": "markdown",
   "id": "illegal-mortgage",
   "metadata": {},
   "source": [
    "### Task 3.1.2 (1 points)\n",
    "\n",
    "<span style='color: green'>**\\[Implement\\]**</span><br>\n",
    "Run k-means on the dataset X, with the number of clusters detected in the previous exercise.\n",
    "\n",
    "<font color='red'>IMPORTANT: You can use the KMeans implementation from scikit-learn.</font> <br>"
   ]
  },
  {
   "cell_type": "code",
   "execution_count": null,
   "id": "approved-shoot",
   "metadata": {},
   "outputs": [],
   "source": [
    "# Data\n",
    "X = toy[[\"sulphates\", \"alcohol\"]].to_numpy()\n",
    "# Necessary Data normalization!\n",
    "X_norm = (X - X.min(0)) / X.ptp(0)\n",
    "\n",
    "\n",
    "### YOUR CODE HERE\n",
    "\n",
    "\n",
    "clusters = []\n",
    "\n",
    "plt.scatter(X_norm[:, 0], X_norm[:, 1], alpha=0.8, c=clusters)"
   ]
  },
  {
   "cell_type": "markdown",
   "id": "adequate-power",
   "metadata": {},
   "source": [
    "### Task 3.1.3 (6 points)\n",
    "<span style='color: green'>**\\[Implement\\]**</span><br> Kernel K-means and the Gaussian Kernel. \n",
    "\n",
    "The Gaussian kernel is defined as in the following equation:\n",
    "\n",
    "$$\n",
    "K\\left(\\mathbf{x}_{i}, \\mathbf{x}_{j}\\right)=\\exp \\left(-\\frac{\\left\\|\\mathbf{x}_{i}-\\mathbf{x}_{j}\\right\\|^{2}}{2 \\sigma^{2}}\\right)$$ \n"
   ]
  },
  {
   "cell_type": "code",
   "execution_count": null,
   "id": "previous-glasgow",
   "metadata": {},
   "outputs": [],
   "source": [
    "### YOUR CODE HERE\n",
    "X = toy[[\"sulphates\", \"alcohol\"]].to_numpy()\n",
    "\n",
    "# Necessary Data normalization!\n",
    "X_norm = (X - X.min(0)) / X.ptp(0)\n",
    "\n",
    "def gaussian_kernel(x, y, sigma=0.8): \n",
    "    k = 0 \n",
    "    ### YOUR CODE HERE\n",
    "\n",
    "\n",
    "    ### YOUR CODE HERE\n",
    "    return k\n",
    "\n",
    "\n",
    "def kernel_kmeans(X, n_clusters, kernel=gaussian_kernel, iters=100, error=.01): \n",
    "    ### YOUR CODE HERE\n",
    "\n",
    "\n",
    "    ### YOUR CODE HERE\n",
    "    return clusters\n",
    "\n",
    "\n",
    "clusters = kernel_kmeans(X_norm, NUMBER_OF_CLUSTERS)\n",
    "\n",
    "scaler = StandardScaler().fit(X_norm)\n",
    "X_scaled = scaler.transform(X_norm)\n",
    "clusters = kernel_kmeans(X_scaled, SOME_AMOUNT_OF_CLUSTERS)\n",
    "\n",
    "plt.scatter(X_scaled[:, 0], X_scaled[:, 1], alpha=0.8, c=clusters)"
   ]
  },
  {
   "attachments": {},
   "cell_type": "markdown",
   "id": "transparent-junction",
   "metadata": {},
   "source": [
    "\n",
    "## Task 3.2 Clustering quality\n",
    "\n",
    "### Task 3.2.1 (6 points)\n",
    "<span style='color: green'>**\\[Implement\\]**</span> **Conditional Entropy (CE)** as a measure for clustering quality.\n",
    "\n",
    "Entropy for a clustering is $H(C) = - \\sum_{i=1}^{k}{p_{C_i} \\log {p_{C_i}}}$.\n",
    "\n",
    "The **Conditional Entropy** of $C$ **given** $T$ is given by: \n",
    "$$\\text{CE}(C|T)=-\\sum\\limits^{|C|}_{i=1}\\sum\\limits^{|T|}_{j=1}\\frac{n_{ij}}{n_i}\\log\\frac{n_{ij}}{n_i}$$\n",
    "where $n_{i}$ is the total number of points in cluster $C_i$ and $n_{ij}$ is the number of common points between clusters $C_i$ and $T_j$\n",
    "\n",
    "\n",
    "**Hint**: First implement **Entropy** and then **Conditional Entropy**."
   ]
  },
  {
   "cell_type": "code",
   "execution_count": null,
   "id": "opposed-research",
   "metadata": {},
   "outputs": [],
   "source": [
    "def entropy(C):\n",
    "    # Let C be a list of clusters\n",
    "    entropy = 0\n",
    "    ### YOUR CODE HERE\n",
    "    \n",
    "    \n",
    "    ### YOUR CODE HERE\n",
    "    return entropy\n",
    "\n",
    "\n",
    "def CE(C1, C2):\n",
    "    ce = 0\n",
    "    ### YOUR CODE HERE\n",
    "    \n",
    "    \n",
    "    ### YOUR CODE HERE\n",
    "    return ce\n",
    "\n",
    "    \n",
    "\n",
    "X = toy[[\"sulphates\", \"alcohol\"]].to_numpy()\n",
    "\n",
    "# Necessary Data normalization!\n",
    "X_norm = (X - X.min(0)) / X.ptp(0)"
   ]
  },
  {
   "cell_type": "markdown",
   "id": "sized-opportunity",
   "metadata": {},
   "source": [
    "### Task 3.2.2 (3 points)\n",
    "<span style='color: green'>**\\[Implement\\]**</span>\n",
    "Plot the Conditional Entropy (implementation from the Task 3.2.1) among the class labels $y$ and the clusters you found with k-means in Task 3.1.1. \n",
    "Make sure that the number of clusters and the number of class labels is the same.<br>"
   ]
  },
  {
   "cell_type": "code",
   "execution_count": null,
   "id": "criminal-pitch",
   "metadata": {
    "pycharm": {
     "name": "#%%\n"
    }
   },
   "outputs": [],
   "source": [
    "###YOUR CODE HERE\n",
    "\n",
    "\n",
    "###YOUR CODE HERE\n",
    "class_labels = np.array(toy[\"quality\"])\n",
    "class_labels = [1 if x == 8 else 0 for x in class_labels]"
   ]
  },
  {
   "cell_type": "markdown",
   "id": "facial-soundtrack",
   "metadata": {},
   "source": [
    "<span style='color: green'>**\\[Motivate\\]**</span><br>\n",
    "A) Reason about the measure, is the measure influenced by the size of the clusters?  "
   ]
  },
  {
   "cell_type": "markdown",
   "id": "southern-convert",
   "metadata": {},
   "source": [
    "******************* \n",
    "**YOUR ANSWER HERE**\n",
    "******************"
   ]
  },
  {
   "cell_type": "markdown",
   "id": "informational-police",
   "metadata": {},
   "source": [
    "<span style='color: green'>**\\[Describe\\]**</span><br>\n",
    "B) What does the measure capture? "
   ]
  },
  {
   "cell_type": "markdown",
   "id": "understanding-settle",
   "metadata": {},
   "source": [
    "*******************\n",
    "**YOUR ANSWER HERE**\n",
    "******************"
   ]
  },
  {
   "cell_type": "markdown",
   "id": "delayed-subject",
   "metadata": {
    "pycharm": {
     "name": "#%% md\n"
    }
   },
   "source": [
    "### Task 3.2.3 (4 points)\n",
    "<span style='color: green'>**\\[Implement\\]**</span><br>\n",
    "Provide an implementation of purity. Recall that purity is the weighted sum of the individual $purity_i = \\frac{1}{|C_i|} \\max_{j=1..k}\\{n_{ij}\\}$ values where $n_{ij}$ is the number of common points in cluster $C_i$\n",
    "and ground-truth cluster $j$ obtained from the labels $y$."
   ]
  },
  {
   "cell_type": "code",
   "execution_count": null,
   "id": "surrounded-consciousness",
   "metadata": {},
   "outputs": [],
   "source": [
    "### YOUR CODE HERE\n",
    "T = np.array([]) # Ground-truth clusters\n",
    "C = np.array([]) # Clusters obtained by k-means\n",
    "### YOUR CODE HERE\n",
    "\n",
    "## C is the clustering from k-means and T is the ground truth cluster assignments.\n",
    "def purity(C, T):\n",
    "    purity = 0\n",
    "    ### YOUR CODE HERE\n",
    "\n",
    "\n",
    "    ### YOUR CODE HERE\n",
    "    return purity\n",
    "\n",
    "print('Purity: {}, CE: {}'.format(purity(C,T), CE(C,T)))"
   ]
  },
  {
   "cell_type": "markdown",
   "id": "phantom-reform",
   "metadata": {
    "pycharm": {
     "name": "#%% md\n"
    }
   },
   "source": [
    "### Task 3.2.4 (2 points)\n",
    "A) <span style='color: green'>**\\[Implement\\]**</span><br>\n",
    "\n",
    "Plot the purity of the clusters obtained by k-means in Task 3.1.1. \n"
   ]
  },
  {
   "cell_type": "code",
   "execution_count": null,
   "id": "civilian-details",
   "metadata": {},
   "outputs": [],
   "source": [
    "### YOUR CODE HERE\n",
    "\n",
    "\n",
    "### YOUR CODE HERE"
   ]
  },
  {
   "cell_type": "markdown",
   "id": "modified-sector",
   "metadata": {},
   "source": [
    "B) <span style='color: green'>**\\[Motivate\\]**</span><br>\n",
    "\n",
    "Compare purity with **Conditional Entropy (CE)**. Which measure is preferable? (1) Check the correct box below and (2) motivate your answer.\n",
    "\n",
    "- [ ] **CE** is preferable because it uses all the points\n",
    "- [ ] Purity is preferable because it is less computational demanding\n",
    "- [ ] **CE** is preferrable because it does not favor small clusters\n",
    "- [ ] Purity is preferrable because it tends to favor balanced clusters."
   ]
  },
  {
   "cell_type": "markdown",
   "id": "accepted-influence",
   "metadata": {},
   "source": [
    "*******************\n",
    "**YOUR ANSWER HERE**\n",
    "******************"
   ]
  },
  {
   "attachments": {},
   "cell_type": "markdown",
   "id": "generic-state",
   "metadata": {},
   "source": [
    "### Task 3.3 OPTICS\n",
    "\n",
    "### Task 3.3.1 (7 point)\n",
    "<span style='color: green'>**\\[Implement\\]**</span> the OPTICS algorithm\n",
    "\n",
    "If you do not remember [OPTICS](https://en.wikipedia.org/wiki/OPTICS_algorithm), check the slides or the lecture notes. "
   ]
  },
  {
   "cell_type": "code",
   "execution_count": null,
   "id": "sensitive-weekly",
   "metadata": {},
   "outputs": [],
   "source": [
    "def rdist(x,y,eps,min_samples):\n",
    "    ### YOUR CODE HERE\n",
    "\n",
    "\n",
    "    ### YOUR CODE HERE\n",
    "    return rdis\n",
    "\n",
    "def kernel_kmeans(X, eps, min_samples): \n",
    "    ### YOUR CODE HERE\n",
    "\n",
    "\n",
    "    ### YOUR CODE HERE\n",
    "    return clusters"
   ]
  },
  {
   "cell_type": "markdown",
   "id": "political-wireless",
   "metadata": {},
   "source": [
    "### Task 3.3.2 (1 points)\n",
    "\n",
    "<span style='color: green'>**\\[Implement\\]**</span><br>\n",
    "A) Run OPTICS with parameters $\\varepsilon=0.07, minPts=3$. <br> "
   ]
  },
  {
   "cell_type": "code",
   "execution_count": null,
   "id": "japanese-topic",
   "metadata": {},
   "outputs": [],
   "source": [
    "### YOUR CODE HERE\n",
    "\n",
    "\n",
    "### YOUR CODE HERE"
   ]
  },
  {
   "cell_type": "markdown",
   "id": "imposed-forge",
   "metadata": {},
   "source": [
    "B) <span style='color: green'>**\\[Motivate\\]**</span><br>\n",
    "\n",
    "Compare the results of OPTICS with those of k-means. Which of the two methods two achieve a better **CE**? "
   ]
  },
  {
   "cell_type": "markdown",
   "id": "decimal-candle",
   "metadata": {},
   "source": [
    "*******************\n",
    "**YOUR ANSWER HERE**\n",
    "******************"
   ]
  },
  {
   "attachments": {},
   "cell_type": "markdown",
   "id": "prostate-residence",
   "metadata": {},
   "source": [
    "### Task 3.3.3 (6 points)\n",
    "<span style='color: green'>**\\[Implement\\]**</span> a simple subspace clustering algorithm.\n",
    "1. Take all subsets of 2,3 attributes. Beware that you should only use the numerical attributes.\n",
    "2. Run OPTICS on each subset. \n",
    "3. Compute **CE** for each subset. \n",
    "4. Keep the k subsets with the largest **CE**. \n",
    "    \n",
    "<font color='red'>IMPORTANT: You may have to experiment a lot with eps and MinPts to get reasonable clusters. You are allowed to use **itertools** library to iterate over all subsets of size 2 and 3.</font>"
   ]
  },
  {
   "cell_type": "code",
   "execution_count": null,
   "id": "absent-anderson",
   "metadata": {},
   "outputs": [],
   "source": [
    "# Necessary Data normalization!\n",
    "X_pt = toy.to_numpy()\n",
    "X_norm_pt = (X_pt - X_pt.min(0)) / X_pt.ptp(0) \n",
    "\n",
    "### YOUR CODE HERE\n",
    "\n",
    "\n",
    "\n",
    "\n",
    "### YOUR CODE HERE"
   ]
  },
  {
   "cell_type": "markdown",
   "id": "published-culture",
   "metadata": {},
   "source": [
    "# Part 4 Outlier detection\n",
    "In this exercise we will work with outlier detection techniques and analyze their performance on the small dataset. Before starting the exercise, run the code below. \n"
   ]
  },
  {
   "cell_type": "code",
   "execution_count": null,
   "id": "explicit-isolation",
   "metadata": {},
   "outputs": [],
   "source": [
    "X_small = toy[[\"sulphates\", \"alcohol\"]].to_numpy()\n",
    "\n",
    "X_norm = (X_small - X_small.min(0)) / X_small.ptp(0)"
   ]
  },
  {
   "cell_type": "markdown",
   "id": "royal-mumbai",
   "metadata": {},
   "source": [
    "## Task 4.1 (DBoutliers)\n",
    "We will now compare two outlier detection techniques.\n",
    "### Task 4.1.1 (6 points)\n",
    "<span style='color: green'>**\\[Implement\\]**</span> a simple distance-based outlier detector. This is the distance-based outlier detection from the lectures, where a point is considered an outlier if at most a fraction $pi$ of the other points have a distance less of than $eps$ to it."
   ]
  },
  {
   "cell_type": "code",
   "execution_count": null,
   "id": "grave-ownership",
   "metadata": {},
   "outputs": [],
   "source": [
    "def DBOutliers(X, eps, pi): \n",
    "    outliers = None\n",
    "    ### YOUR STARTS CODE HERE\n",
    "    \n",
    "    \n",
    "    ### YOUR CODE ENDS HERE\n",
    "    return outliers"
   ]
  },
  {
   "cell_type": "markdown",
   "id": "relative-somewhere",
   "metadata": {},
   "source": [
    "### Task 4.1.2 (2 points)\n",
    "A) <span style='color: green'>**\\[Implement\\]**</span>\n",
    "DBOutliers requires tuning the parameters eps, pi. Run the code from Task 4.1.1 with different choices of eps, pi \n",
    "\n",
    "**Note** that the data is normalized. Choose two ranges with **at least** 4 values each.  "
   ]
  },
  {
   "cell_type": "code",
   "execution_count": null,
   "id": "hollywood-permission",
   "metadata": {},
   "outputs": [],
   "source": [
    "### YOUR CODE HERE\n",
    "\n",
    "### YOUR CODE HERE"
   ]
  },
  {
   "cell_type": "markdown",
   "id": "developmental-simulation",
   "metadata": {},
   "source": [
    "B) <span style='color: green'>**\\[Motivate\\]**</span><br>\n",
    "\n",
    "**Present** the results  and **discuss** how the results vary with respect to (1) eps and (2) pi."
   ]
  },
  {
   "cell_type": "markdown",
   "id": "satellite-stanford",
   "metadata": {},
   "source": [
    "*******************\n",
    "**YOUR ANSWER HERE**\n",
    "******************"
   ]
  },
  {
   "cell_type": "markdown",
   "id": "spoken-reset",
   "metadata": {},
   "source": [
    "### Task 4.1.3 (3 points)\n",
    "**NOTE** This is hard but also fun. Since it is not impacting the grade too much, you can choose to invent something new.\n",
    "\n",
    "A) Propose and <span style='color: green'>**\\[Implement\\]**</span> a heuristic method to tune parameters eps, pi. "
   ]
  },
  {
   "cell_type": "code",
   "execution_count": null,
   "id": "express-racing",
   "metadata": {},
   "outputs": [],
   "source": [
    "def tune_dboutliers(X): \n",
    "    eps = 0\n",
    "    pi = 0\n",
    "    ### YOUR STARTS CODE HERE\n",
    "    \n",
    "    \n",
    "    ### YOUR ENDS CODE HERE\n",
    "    return eps, pi"
   ]
  },
  {
   "cell_type": "markdown",
   "id": "vulnerable-threshold",
   "metadata": {},
   "source": [
    "B) <span style='color: green'>**\\[Describe\\]**</span> your algorithm, its main idea, its strengths and its weaknesses"
   ]
  },
  {
   "cell_type": "markdown",
   "id": "laden-progressive",
   "metadata": {},
   "source": [
    "*******************\n",
    "**YOUR ANSWER HERE**\n",
    "******************"
   ]
  },
  {
   "cell_type": "markdown",
   "id": "derived-hanging",
   "metadata": {},
   "source": [
    "## Task 4.2 LOF (2 points)\n",
    "<span style='color: green'>**\\[Describe\\]**</span><br>\n",
    "Using the parameters eps=0.18, pi=0.2 compare the results of DBOutliers with those obtained by LOF implemented in Week 9. What outliers do you find?"
   ]
  },
  {
   "cell_type": "code",
   "execution_count": null,
   "id": "electric-blackjack",
   "metadata": {},
   "outputs": [],
   "source": [
    "### YOUR CODE HERE"
   ]
  },
  {
   "cell_type": "markdown",
   "id": "bigger-faith",
   "metadata": {},
   "source": [
    "*******************\n",
    "**YOUR ANSWER HERE**\n",
    "******************"
   ]
  }
 ],
 "metadata": {
  "kernelspec": {
   "display_name": "dm23",
   "language": "python",
   "name": "python3"
  },
  "language_info": {
   "codemirror_mode": {
    "name": "ipython",
    "version": 3
   },
   "file_extension": ".py",
   "mimetype": "text/x-python",
   "name": "python",
   "nbconvert_exporter": "python",
   "pygments_lexer": "ipython3",
   "version": "3.10.7"
  },
  "vscode": {
   "interpreter": {
    "hash": "70462cd43de24d1417aba47e8d8c6bf3895a856d5849b23f18f4202eece5e4b1"
   }
  }
 },
 "nbformat": 4,
 "nbformat_minor": 5
}
